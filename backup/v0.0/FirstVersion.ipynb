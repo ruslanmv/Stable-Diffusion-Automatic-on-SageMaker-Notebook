{
 "cells": [
  {
   "cell_type": "markdown",
   "id": "8d426760-92e1-4d9f-a6d3-f00964e40519",
   "metadata": {},
   "source": [
    "# SageMaker Notebook "
   ]
  },
  {
   "cell_type": "markdown",
   "id": "f0ce5501-4003-4880-bd3b-bedc51113f09",
   "metadata": {},
   "source": [
    "First we check that we are on the right enviroment "
   ]
  },
  {
   "cell_type": "code",
   "execution_count": null,
   "id": "1f702294-b36e-463f-a428-1d4fb559fcf1",
   "metadata": {
    "tags": []
   },
   "outputs": [],
   "source": [
    "!echo $CONDA_DEFAULT_ENV"
   ]
  },
  {
   "cell_type": "code",
   "execution_count": null,
   "id": "749de79e-9b38-4a9d-930a-31b56de15da8",
   "metadata": {
    "tags": []
   },
   "outputs": [],
   "source": [
    "import sys\n",
    "from IPython.display import clear_output\n",
    "print(sys.executable)"
   ]
  },
  {
   "cell_type": "code",
   "execution_count": null,
   "id": "4713b89a-170d-4f18-a7c3-20b9fb96efe0",
   "metadata": {
    "tags": []
   },
   "outputs": [],
   "source": [
    "!python --version"
   ]
  },
  {
   "cell_type": "markdown",
   "id": "9b4ad311-38b5-4f14-8968-f86a6893ffed",
   "metadata": {},
   "source": [
    "## Additional Packages for SageMaker"
   ]
  },
  {
   "cell_type": "code",
   "execution_count": null,
   "id": "e3ea2a98-67e9-4516-9255-662118282094",
   "metadata": {
    "tags": []
   },
   "outputs": [],
   "source": [
    "!pip install ipywidgets\n",
    "%pip install gdown\n",
    "clear_output()"
   ]
  },
  {
   "cell_type": "markdown",
   "id": "436fbe04-f202-408e-bbfc-4d9960d902b2",
   "metadata": {
    "tags": []
   },
   "source": [
    "# Installation: Clone webui repository\n"
   ]
  },
  {
   "cell_type": "code",
   "execution_count": null,
   "id": "07a1dd0d-0d26-46a4-bca7-606441d7e5d7",
   "metadata": {
    "tags": []
   },
   "outputs": [],
   "source": [
    "%cd ~/SageMaker/\n",
    "!git clone --depth 1 https://github.com/AUTOMATIC1111/stable-diffusion-webui\n",
    "#create softlink to /tmp/outputs for storing images\n",
    "#contents of /tmp folder will be deleted when each session ends\n",
    "!ln -vs /tmp/outputs stable-diffusion-webui/outputs\n",
    "#create softlink to /tmp in ~/sagemaker-studiolab-notebooks/\n",
    "!ln -vs /tmp ~/sagemaker-studiolab-notebooks/tmp\n",
    "#create softlink to /tmp/models in stable-diffusion-webui/models/Stable-diffusion/\n",
    "!ln -vs /tmp/models stable-diffusion-webui/models/Stable-diffusion/tmp_models\n",
    "# change default settings (not necessary)\n",
    "%cd stable-diffusion-webui\n",
    "!wget https://raw.githubusercontent.com/Miraculix200/StableDiffusionUI_Colab/main/config.json\n",
    "!wget https://raw.githubusercontent.com/Miraculix200/StableDiffusionUI_Colab/main/ui-config.json\n",
    "learning_rate = \"5e-5:100, 5e-6:1500, 5e-7:2000, 5e-5:2100, 5e-7:3000, 5e-5:3100, 5e-7:4000, 5e-5:4100, 5e-7:5000, 5e-5:5100, 5e-7:6000, 5e-5:6100, 5e-7:7000, 5e-5:7100, 5e-7:8000, 5e-5:8100, 5e-7:9000, 5e-5:9100, 5e-7:10000, 5e-6:10100, 5e-8:11000, 5e-6:11100, 5e-8:12000, 5e-6:12100, 5e-8:13000, 5e-6:13100, 5e-8:14000, 5e-6:14100, 5e-8:15000, 5e-6:15100, 5e-8:16000, 5e-6:16100, 5e-8:17000, 5e-6:17100, 5e-8:18000, 5e-6:18100, 5e-8:19000, 5e-6:19100, 5e-8:20000, 5e-5:20100, 5e-7:21000, 5e-5:21100, 5e-7:22000, 5e-5:22100, 5e-7:23000, 5e-5:23100, 5e-7:24000, 5e-5:24100, 5e-7:25000, 5e-5:25100, 5e-7:26000, 5e-5:26100, 5e-7:27000, 5e-5:27100, 5e-7:28000, 5e-5:28100, 5e-7:29000, 5e-5:29100, 5e-7:30000, 5e-6:30100, 5e-8:31000, 5e-6:31100, 5e-8:32000, 5e-6:32100, 5e-8:33000, 5e-6:33100, 5e-8:34000, 5e-6:34100, 5e-8:35000, 5e-6:35100, 5e-8:36000, 5e-6:36100, 5e-8:37000, 5e-6:37100, 5e-8:38000, 5e-6:38100, 5e-8:39000, 5e-6:39100, 5e-8:40000\"\n",
    "!echo \"a photo of a [filewords]\" >textual_inversion_templates/hypernetwork2.txt\n",
    "# install extensions (not necessary)\n",
    "%cd extensions\n",
    "!git clone --depth 1 https://github.com/yfszzx/stable-diffusion-webui-images-browser\n",
    "!git clone --depth 1 https://github.com/toshiaki1729/stable-diffusion-webui-dataset-tag-editor.git\n",
    "#clear_output()"
   ]
  },
  {
   "cell_type": "markdown",
   "id": "7778e759-b7cf-4efd-ba00-fab99117184e",
   "metadata": {},
   "source": [
    "## Installation: Download model(s) from Huggingface\n",
    "\n",
    "\n",
    "Alternatively you can use the JupyterLab file browser to upload one or more .ckpt files\n",
    "to the ~/sagemaker-studiolab-notebooks/stable-diffusion-webui/models/Stable-diffusion/ folder\n",
    "\n",
    "There are optional model downloads below this cell, where a Huggingface token is not necessary\n",
    "To save disk space, you can move models to /tmp/models and restart the webui. \n",
    "These models will be deleted when the runtime ends"
   ]
  },
  {
   "cell_type": "markdown",
   "id": "234b0f4c-7acc-4dc4-b792-16770409cd0b",
   "metadata": {},
   "source": [
    "# Download model(s)\n",
    "Check free disk space\n"
   ]
  },
  {
   "cell_type": "code",
   "execution_count": null,
   "id": "eb8ae0e3-6f17-4c6f-9dbb-24cd400216ee",
   "metadata": {
    "tags": []
   },
   "outputs": [],
   "source": [
    "!df -h | grep -E 'Avail|home'"
   ]
  },
  {
   "cell_type": "markdown",
   "id": "74ffd600-b5e8-4b54-822b-15d18face24c",
   "metadata": {},
   "source": [
    "# Huggingface token\n",
    "You only have to enter this once, as the token will persist in ~/.huggingface/token across sessions"
   ]
  },
  {
   "cell_type": "code",
   "execution_count": null,
   "id": "b34b08a4-f834-4834-9048-46b58dbcd154",
   "metadata": {
    "tags": []
   },
   "outputs": [],
   "source": [
    "import ipywidgets as widgets\n",
    "\n",
    "token_textbox = widgets.Text(\n",
    "    value='',\n",
    "    description='Token:',\n",
    ")\n",
    "token_textbox"
   ]
  },
  {
   "cell_type": "code",
   "execution_count": null,
   "id": "066e2038-e7f9-438c-b8e1-84e5a9bf2324",
   "metadata": {
    "tags": []
   },
   "outputs": [],
   "source": [
    "huggingface_token = \"\"\n",
    "\n",
    "import os\n",
    "\n",
    "token_path = os.path.expanduser('~/.huggingface/token')\n",
    "\n",
    "if os.path.isfile(token_path):\n",
    "    with open(token_path) as f:\n",
    "        lines = f.readlines()\n",
    "   #huggingface_token = lines[0]\n",
    "    huggingface_token=huggingface_token\n",
    "else:\n",
    "    try:\n",
    "        token_textbox\n",
    "    except NameError:\n",
    "        raise RuntimeError(\"Enter Huggingface token\")\n",
    "    else:\n",
    "        !mkdir -p ~/.huggingface\n",
    "        !echo -n \"{token_textbox.value}\" > ~/.huggingface/token\n",
    "        huggingface_token = token_textbox.value\n",
    "\n",
    "user_header = f\"\\\"Authorization: Bearer {huggingface_token}\\\"\"\n",
    "\n",
    "%cd ~/SageMaker/stable-diffusion-webui/models/Stable-diffusion/\n",
    "\n",
    "# Choose here which model(s) to download #############################################################################\n",
    "\n",
    "# Model 1.4\n",
    "#!wget --header={user_header} https://huggingface.co/CompVis/stable-diffusion-v-1-4-original/resolve/main/sd-v1-4.ckpt\n",
    "\n",
    "# Model 1.5 (8GB) - only necessary for native training, not for embeddings/hypernetworks\n",
    "#!wget --header={user_header} https://huggingface.co/runwayml/stable-diffusion-v1-5/resolve/main/v1-5-pruned.ckpt \n",
    "\n",
    "# Model 1.5 (4GB)\n",
    "!wget --header={user_header} https://huggingface.co/runwayml/stable-diffusion-v1-5/resolve/main/v1-5-pruned-emaonly.ckpt \n",
    "\n",
    "# Inpainting model 1.5 (4GB)\n",
    "#!wget --header={user_header} https://huggingface.co/runwayml/stable-diffusion-inpainting/resolve/main/sd-v1-5-inpainting.ckpt\n",
    "clear_output()"
   ]
  },
  {
   "cell_type": "markdown",
   "id": "2b531b1c-8deb-4e9f-8886-1ea0d7b6ab05",
   "metadata": {
    "tags": []
   },
   "source": [
    "Recommended Optional: Download variational autoencoder (VAE)\n",
    "Doing so can improve the quality of generated images, if you select the VAE in the webui settings\n",
    "\n",
    "Go to these pages and accept the licenses before running the next cell:\n",
    "\n",
    "https://huggingface.co/stabilityai/sd-vae-ft-ema-original\n",
    "\n",
    "https://huggingface.co/stabilityai/sd-vae-ft-mse-original"
   ]
  },
  {
   "cell_type": "code",
   "execution_count": null,
   "id": "e9c2fe03-17bf-4d3c-908a-cf3cc2ae590d",
   "metadata": {
    "tags": []
   },
   "outputs": [],
   "source": [
    "# sd-vae-ft-ema-original\n",
    "#%cd ~/sagemaker-studiolab-notebooks/stable-diffusion-webui/models/VAE/\n",
    "#!wget --header={user_header} https://huggingface.co/stabilityai/sd-vae-ft-ema-original/resolve/main/vae-ft-ema-560000-ema-pruned.ckpt\n",
    "\n",
    "# sd-vae-ft-mse-original\n",
    "#%cd ~/sagemaker-studiolab-notebooks/stable-diffusion-webui/models/VAE/\n",
    "#!wget --header={user_header} https://huggingface.co/stabilityai/sd-vae-ft-mse-original/resolve/main/vae-ft-mse-840000-ema-pruned.ckpt\n",
    "\n",
    "# sd-vae-ft-mse-original\n",
    "# Use this if you downloaded v1-5-pruned-emaonly.ckpt above and want to autoselect the VAE every time you load this model in the webui\n",
    "%cd ~/SageMaker/stable-diffusion-webui/models/Stable-diffusion/\n",
    "!wget --header={user_header} https://huggingface.co/stabilityai/sd-vae-ft-mse-original/resolve/main/vae-ft-mse-840000-ema-pruned.ckpt -O v1-5-pruned-emaonly.vae.pt \n",
    "clear_output()"
   ]
  },
  {
   "cell_type": "markdown",
   "id": "521d0405-63b1-4b9d-9a98-385b6073a06a",
   "metadata": {
    "tags": []
   },
   "source": [
    "Optional: Download various models\n",
    "Change values from False to True to download a model\n",
    "\n",
    "A Huggingface token is not necessary for these downloads"
   ]
  },
  {
   "cell_type": "code",
   "execution_count": null,
   "id": "fd4b319c-dbf7-4526-b58a-3e1ba8fff841",
   "metadata": {
    "tags": []
   },
   "outputs": [],
   "source": [
    "############################################################\n",
    "\n",
    "download_to_temp_folder = False # models will be deleted when the SageMaker session ends \n",
    "\n",
    "anything_v3 = False # Anything V3 model with VAE\n",
    "anything_xtron = False # AnythingXtron model\n",
    "gigachad = False # Gigachad model\n",
    "midjourney_v4 = True # Midjourney V4 Diffusion\n",
    "waifu = False # Waifu Division with Anime VAE\n",
    "modidi = False # Modern Disney Diffusion\n",
    "nitrodiffusion = False # Multi-Style Model trained from scratch\n",
    "sd15_cloned = False # Cloned version of model 1.5 (not token necessary)\n",
    "secret_ai = False # Anime/furry model with VAE and hypernetworks\n",
    "\n",
    "############################################################\n",
    "\n",
    "if download_to_temp_folder:\n",
    "    !mkdir -p /tmp/models\n",
    "    %cd ~/SageMaker/stable-diffusion-webui/models/Stable-diffusion/tmp_models\n",
    "else:\n",
    "    %cd ~/SageMaker/stable-diffusion-webui/models/Stable-diffusion/\n",
    "\n",
    "if anything_v3:\n",
    "    !wget https://huggingface.co/Linaqruf/anything-v3.0/resolve/main/Anything-V3.0-pruned.ckpt\n",
    "    !wget https://huggingface.co/Linaqruf/anything-v3.0/resolve/main/Anything-V3.0.vae.pt -O Anything-V3.0-pruned.vae.pt\n",
    "\n",
    "if anything_xtron:\n",
    "    !wget https://huggingface.co/CrasHthe2nd2/anything-tron/resolve/main/anythingXtron.ckpt\n",
    "    !wget https://huggingface.co/CrasHthe2nd2/anything-tron/resolve/main/Anything-V3.0.vae.pt -O anythingXtron.vae.pt\n",
    "\n",
    "if gigachad:\n",
    "    !wget https://huggingface.co/SpiteAnon/gigachad-diffusion/resolve/main/gigachad_2000.ckpt\n",
    "\n",
    "if midjourney_v4:\n",
    "    !wget https://huggingface.co/prompthero/midjourney-v4-diffusion/resolve/main/mdjrny-v4.ckpt\n",
    "\n",
    "if modidi:\n",
    "    !wget https://huggingface.co/nitrosocke/mo-di-diffusion/resolve/main/moDi-v1-pruned.ckpt\n",
    "\n",
    "if nitrodiffusion:\n",
    "    !wget https://huggingface.co/nitrosocke/Nitro-Diffusion/resolve/main/nitroDiffusion-v1.ckpt\n",
    "\n",
    "if sd15_cloned:\n",
    "    !wget https://huggingface.co/acheong08/SD-V1-5-cloned/resolve/main/v1-5-pruned-emaonly.ckpt\n",
    "\n",
    "if secret_ai:\n",
    "    !wget https://huggingface.co/acheong08/secretAI/resolve/main/stableckpt/animefull-final-pruned/model.ckpt -O secret_ai.ckpt\n",
    "    %cd ~/SageMaker/stable-diffusion-webui/models/VAE/\n",
    "    !wget https://huggingface.co/acheong08/secretAI/resolve/main/stableckpt/animevae.pt\n",
    "    !mkdir -p ~/sagemaker-studiolab-notebooks/stable-diffusion-webui/models/hypernetworks/\n",
    "    %cd ~/SageMaker/stable-diffusion-webui/models/hypernetworks/\n",
    "    !wget https://huggingface.co/acheong08/secretAI/resolve/main/stableckpt/modules/modules/aini.pt\n",
    "    !wget https://huggingface.co/acheong08/secretAI/resolve/main/stableckpt/modules/modules/anime.pt\n",
    "    !wget https://huggingface.co/acheong08/secretAI/resolve/main/stableckpt/modules/modules/anime_2.pt\n",
    "    !wget https://huggingface.co/acheong08/secretAI/resolve/main/stableckpt/modules/modules/anime_3.pt\n",
    "    !wget https://huggingface.co/acheong08/secretAI/resolve/main/stableckpt/modules/modules/furry.pt\n",
    "    !wget https://huggingface.co/acheong08/secretAI/resolve/main/stableckpt/modules/modules/furry_2.pt\n",
    "    !wget https://huggingface.co/acheong08/secretAI/resolve/main/stableckpt/modules/modules/furry_3.pt\n",
    "    !wget https://huggingface.co/acheong08/secretAI/resolve/main/stableckpt/modules/modules/furry_kemono.pt\n",
    "    !wget https://huggingface.co/acheong08/secretAI/resolve/main/stableckpt/modules/modules/furry_protogen.pt\n",
    "    !wget https://huggingface.co/acheong08/secretAI/resolve/main/stableckpt/modules/modules/furry_scalie.pt\n",
    "    !wget https://huggingface.co/acheong08/secretAI/resolve/main/stableckpt/modules/modules/furry_transformation.pt\n",
    "    !wget https://huggingface.co/acheong08/secretAI/resolve/main/stableckpt/modules/modules/pony.pt\n",
    "\n",
    "# waifu division\n",
    "if waifu:\n",
    "    %cd ~/SageMaker/stable-diffusion-webui/models/Stable-diffusion/\n",
    "    !wget https://huggingface.co/hakurei/waifu-diffusion-v1-4/resolve/main/models/wd-1-3-penultimate-ucg-cont.ckpt\n",
    "\n",
    "    %cd ~/SageMaker/stable-diffusion-webui/models/VAE/\n",
    "    !wget https://huggingface.co/hakurei/waifu-diffusion-v1-4/resolve/main/vae/kl-f8-anime.ckpt\n",
    "    !wget https://huggingface.co/hakurei/waifu-diffusion-v1-4/resolve/main/vae/kl-f8-anime2.ckpt\n",
    "clear_output()"
   ]
  },
  {
   "cell_type": "markdown",
   "id": "69fdaee7-4599-4636-9666-4659465b1e90",
   "metadata": {
    "tags": []
   },
   "source": [
    "Sources:\n",
    "\n",
    "https://huggingface.co/SpiteAnon/gigachad-diffusion\n",
    "\n",
    "https://huggingface.co/CrasHthe2nd2/anything-tron\n",
    "\n",
    "https://huggingface.co/Linaqruf/anything-v3.0\n",
    "\n",
    "https://huggingface.co/prompthero/midjourney-v4-diffusion\n",
    "\n",
    "https://huggingface.co/hakurei/waifu-diffusion-v1-4\n",
    "\n",
    "https://huggingface.co/nitrosocke/mo-di-diffusion\n",
    "\n",
    "https://huggingface.co/nitrosocke/Nitro-Diffusion\n",
    "\n",
    "https://huggingface.co/acheong08"
   ]
  },
  {
   "cell_type": "markdown",
   "id": "41201e23-009f-4878-b84e-07e44b0c54ad",
   "metadata": {
    "tags": []
   },
   "source": [
    "Installation: Install glib to prevent libgthread error when starting webui\n",
    "You only need to do this once on your SageMaker SL account"
   ]
  },
  {
   "cell_type": "code",
   "execution_count": null,
   "id": "8a2419b3-9e5f-40bc-9ed4-2fcf5d0e7105",
   "metadata": {
    "tags": []
   },
   "outputs": [],
   "source": [
    "%cd ~/SageMaker/stable-diffusion-webui"
   ]
  },
  {
   "cell_type": "markdown",
   "id": "94fc567c-4c5b-4572-9050-b78567905572",
   "metadata": {},
   "source": [
    "# Installation  Stable Diffusion Webui"
   ]
  },
  {
   "cell_type": "code",
   "execution_count": null,
   "id": "48b4970f-8f75-4216-b2b1-cf907565ad2a",
   "metadata": {
    "tags": []
   },
   "outputs": [],
   "source": [
    "#!conda install glib=2.51.0 -y\n",
    "\n",
    "#Update: Change into Web UI directory and download updates\n",
    "\n",
    "#This is not strictly necessary. You can run this every time before you start the webui\n",
    "\n",
    "%cd ~/SageMaker/stable-diffusion-webui\n",
    "!git pull\n",
    "#Update: Install webui requirements.txt\n",
    "#This is necessary sometimes after you did a !git pull above\n",
    "\n",
    "%cd ~/SageMaker/stable-diffusion-webui\n",
    "%pip install -r requirements.txt\n",
    "clear_output()"
   ]
  },
  {
   "cell_type": "markdown",
   "id": "da597d9b-cbf4-42f7-8d42-be7a86a90cf1",
   "metadata": {
    "tags": []
   },
   "source": [
    "\n",
    "Note that every time you stop the SageMaker Studio Lab runtime the generated images will be lost, as they are stored in the /tmp folder"
   ]
  },
  {
   "cell_type": "code",
   "execution_count": null,
   "id": "e1999153-43a8-4f26-a1ea-1e8f505e2275",
   "metadata": {
    "tags": []
   },
   "outputs": [],
   "source": [
    "##################################\n",
    "\n",
    "WEBUI_USERNAME=\"genius\"\n",
    "WEBUI_PASSWORD=\"artist\"\n",
    "\n",
    "##################################\n"
   ]
  },
  {
   "cell_type": "code",
   "execution_count": null,
   "id": "58d23050-b916-42c1-94c0-41f69c9df6b3",
   "metadata": {
    "tags": []
   },
   "outputs": [],
   "source": [
    "!pwd"
   ]
  },
  {
   "cell_type": "code",
   "execution_count": null,
   "id": "33c886b1-7f11-4810-acf0-9b5ee5f7eee0",
   "metadata": {
    "tags": []
   },
   "outputs": [],
   "source": [
    "# create /tmp/outputs folder for storing generated images for this session\n",
    "!mkdir -p /tmp/outputs\n",
    "!mkdir -p /tmp/models"
   ]
  },
  {
   "cell_type": "code",
   "execution_count": null,
   "id": "1001e2a6-bf98-4d46-8322-998a2ddd5eaf",
   "metadata": {
    "tags": []
   },
   "outputs": [],
   "source": [
    "!df -h | grep home"
   ]
  },
  {
   "cell_type": "code",
   "execution_count": null,
   "id": "272a6a7c-f3a7-4920-acb7-bfec341c2043",
   "metadata": {
    "tags": []
   },
   "outputs": [],
   "source": [
    "##################################\n",
    "\n",
    "WEBUI_USERNAME = \"genius\"\n",
    "WEBUI_PASSWORD = \"artist\"\n",
    "\n",
    "##################################\n"
   ]
  },
  {
   "cell_type": "code",
   "execution_count": null,
   "id": "a74dceb1-c726-475f-ac99-fe447c693d47",
   "metadata": {
    "tags": []
   },
   "outputs": [],
   "source": [
    "# launch webui\n",
    "%cd ~/SageMaker/stable-diffusion-webui\n",
    "ARGS=\"--disable-console-progressbars --gradio-debug --gradio-auth \"+ WEBUI_USERNAME + \":\" + WEBUI_PASSWORD+\" --share\"\n",
    "!COMMANDLINE_ARGS=\"$ARGS\" REQS_FILE=\"requirements.txt\" python launch.py"
   ]
  },
  {
   "cell_type": "markdown",
   "id": "b0e9d16b-f35d-4fc3-b6bc-fd39f40f26cc",
   "metadata": {
    "tags": []
   },
   "source": [
    "Commandline arguments are:\n",
    "```\n",
    "--share - create online gradio.app link (currently this doesn't work on SageMaker SL)\n",
    "--gradio-debug - print outputs to console\n",
    "--ngrok - start ngrok reverse proxy with supplied auth token\n",
    "```\n",
    "End: Commands for after you're done with a session\n",
    "\n",
    "```bash\n",
    "COMMANDLINE_ARGS=\"--disable-console-progressbars --gradio-debug --gradio-auth genius:artist --share\"\n",
    "python launch.py $COMMANDLINE_ARGS\n",
    "```"
   ]
  },
  {
   "cell_type": "markdown",
   "id": "9680dc84-ace2-4bfe-9c18-276da360a9eb",
   "metadata": {
    "tags": []
   },
   "source": [
    "Click the square stop button before running these cells\n",
    "Create .tar.gz archive of images for downloading\n",
    "Location will be ~/sagemaker-studiolab-notebooks/tmp/outputs.tar.gz and /tmp/outputs.tar.gz"
   ]
  },
  {
   "cell_type": "code",
   "execution_count": null,
   "id": "3bf1619e-2ea3-4565-bfb1-4ad5d613bc30",
   "metadata": {
    "tags": []
   },
   "outputs": [],
   "source": [
    "%cd /tmp\n",
    "!echo \"Creating archive. Please wait...\"\n",
    "!tar -czf /tmp/outputs.tar.gz outputs\n",
    "!echo \"You can now download the archive with generated images\""
   ]
  }
 ],
 "metadata": {
  "kernelspec": {
   "display_name": "conda_automatic",
   "language": "python",
   "name": "conda_automatic"
  },
  "language_info": {
   "codemirror_mode": {
    "name": "ipython",
    "version": 3
   },
   "file_extension": ".py",
   "mimetype": "text/x-python",
   "name": "python",
   "nbconvert_exporter": "python",
   "pygments_lexer": "ipython3",
   "version": "3.10.11"
  }
 },
 "nbformat": 4,
 "nbformat_minor": 5
}
