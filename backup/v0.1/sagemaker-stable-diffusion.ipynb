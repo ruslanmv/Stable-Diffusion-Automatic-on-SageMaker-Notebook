{
 "cells": [
  {
   "cell_type": "markdown",
   "id": "8d426760-92e1-4d9f-a6d3-f00964e40519",
   "metadata": {},
   "source": [
    "# SageMaker Notebook "
   ]
  },
  {
   "cell_type": "markdown",
   "id": "f0ce5501-4003-4880-bd3b-bedc51113f09",
   "metadata": {},
   "source": [
    "First we check that we are on the right enviroment "
   ]
  },
  {
   "cell_type": "code",
   "execution_count": 1,
   "id": "1f702294-b36e-463f-a428-1d4fb559fcf1",
   "metadata": {
    "tags": []
   },
   "outputs": [
    {
     "name": "stdout",
     "output_type": "stream",
     "text": [
      "automatic\n"
     ]
    }
   ],
   "source": [
    "!echo $CONDA_DEFAULT_ENV"
   ]
  },
  {
   "cell_type": "code",
   "execution_count": 2,
   "id": "749de79e-9b38-4a9d-930a-31b56de15da8",
   "metadata": {
    "tags": []
   },
   "outputs": [
    {
     "name": "stdout",
     "output_type": "stream",
     "text": [
      "/home/ec2-user/anaconda3/envs/automatic/bin/python\n",
      "# conda environments:\n",
      "#\n",
      "base                     /home/ec2-user/anaconda3\n",
      "JupyterSystemEnv         /home/ec2-user/anaconda3/envs/JupyterSystemEnv\n",
      "R                        /home/ec2-user/anaconda3/envs/R\n",
      "automatic             *  /home/ec2-user/anaconda3/envs/automatic\n",
      "python3                  /home/ec2-user/anaconda3/envs/python3\n",
      "pytorch_p310             /home/ec2-user/anaconda3/envs/pytorch_p310\n",
      "tensorflow2_p310         /home/ec2-user/anaconda3/envs/tensorflow2_p310\n",
      "\n"
     ]
    }
   ],
   "source": [
    "import sys\n",
    "from IPython.display import clear_output\n",
    "print(sys.executable)\n",
    "!conda info --envs"
   ]
  },
  {
   "cell_type": "code",
   "execution_count": 3,
   "id": "4713b89a-170d-4f18-a7c3-20b9fb96efe0",
   "metadata": {
    "tags": []
   },
   "outputs": [
    {
     "name": "stdout",
     "output_type": "stream",
     "text": [
      "Python 3.10.11\n"
     ]
    }
   ],
   "source": [
    "!python --version"
   ]
  },
  {
   "cell_type": "markdown",
   "id": "9b4ad311-38b5-4f14-8968-f86a6893ffed",
   "metadata": {},
   "source": [
    "## Additional Packages for SageMaker"
   ]
  },
  {
   "cell_type": "code",
   "execution_count": 4,
   "id": "e3ea2a98-67e9-4516-9255-662118282094",
   "metadata": {
    "tags": []
   },
   "outputs": [],
   "source": [
    "!pip install ipywidgets\n",
    "%pip install gdown\n",
    "!pip3 install civitdl\n",
    "!pip install python-dotenv\n",
    "clear_output()"
   ]
  },
  {
   "cell_type": "code",
   "execution_count": 5,
   "id": "4cf1613a-d803-47f8-8070-7b8825eb7177",
   "metadata": {
    "tags": []
   },
   "outputs": [],
   "source": [
    "import ipywidgets as widgets\n",
    "from dotenv import load_dotenv\n",
    "import os\n",
    "\n",
    "# Load values from .env file\n",
    "load_dotenv('.env')\n",
    "# Get the value of HF_TOKEN from .env file\n",
    "#hf_token = os.getenv('HF_TOKEN')\n",
    "# Get the value of API_KEY civitai from .env file\n",
    "API_KEY = os.getenv('API_KEY')"
   ]
  },
  {
   "cell_type": "markdown",
   "id": "436fbe04-f202-408e-bbfc-4d9960d902b2",
   "metadata": {
    "tags": []
   },
   "source": [
    "# Installation: Clone webui repository\n"
   ]
  },
  {
   "cell_type": "code",
   "execution_count": 6,
   "id": "07a1dd0d-0d26-46a4-bca7-606441d7e5d7",
   "metadata": {
    "tags": []
   },
   "outputs": [],
   "source": [
    "%cd ~/SageMaker/\n",
    "!git clone --depth 1 https://github.com/AUTOMATIC1111/stable-diffusion-webui\n",
    "#create softlink to /tmp/outputs for storing images\n",
    "#contents of /tmp folder will be deleted when each session ends\n",
    "!ln -vs /tmp/outputs stable-diffusion-webui/outputs\n",
    "#create softlink to /tmp in ~/sagemaker-studiolab-notebooks/\n",
    "!ln -vs /tmp ~/sagemaker-studiolab-notebooks/tmp\n",
    "#create softlink to /tmp/models in stable-diffusion-webui/models/Stable-diffusion/\n",
    "!ln -vs /tmp/models stable-diffusion-webui/models/Stable-diffusion/tmp_models\n",
    "# change default settings (not necessary)\n",
    "%cd stable-diffusion-webui\n",
    "!wget https://raw.githubusercontent.com/Miraculix200/StableDiffusionUI_Colab/main/config.json\n",
    "!wget https://raw.githubusercontent.com/Miraculix200/StableDiffusionUI_Colab/main/ui-config.json\n",
    "learning_rate = \"5e-5:100, 5e-6:1500, 5e-7:2000, 5e-5:2100, 5e-7:3000, 5e-5:3100, 5e-7:4000, 5e-5:4100, 5e-7:5000, 5e-5:5100, 5e-7:6000, 5e-5:6100, 5e-7:7000, 5e-5:7100, 5e-7:8000, 5e-5:8100, 5e-7:9000, 5e-5:9100, 5e-7:10000, 5e-6:10100, 5e-8:11000, 5e-6:11100, 5e-8:12000, 5e-6:12100, 5e-8:13000, 5e-6:13100, 5e-8:14000, 5e-6:14100, 5e-8:15000, 5e-6:15100, 5e-8:16000, 5e-6:16100, 5e-8:17000, 5e-6:17100, 5e-8:18000, 5e-6:18100, 5e-8:19000, 5e-6:19100, 5e-8:20000, 5e-5:20100, 5e-7:21000, 5e-5:21100, 5e-7:22000, 5e-5:22100, 5e-7:23000, 5e-5:23100, 5e-7:24000, 5e-5:24100, 5e-7:25000, 5e-5:25100, 5e-7:26000, 5e-5:26100, 5e-7:27000, 5e-5:27100, 5e-7:28000, 5e-5:28100, 5e-7:29000, 5e-5:29100, 5e-7:30000, 5e-6:30100, 5e-8:31000, 5e-6:31100, 5e-8:32000, 5e-6:32100, 5e-8:33000, 5e-6:33100, 5e-8:34000, 5e-6:34100, 5e-8:35000, 5e-6:35100, 5e-8:36000, 5e-6:36100, 5e-8:37000, 5e-6:37100, 5e-8:38000, 5e-6:38100, 5e-8:39000, 5e-6:39100, 5e-8:40000\"\n",
    "!echo \"a photo of a [filewords]\" >textual_inversion_templates/hypernetwork2.txt\n",
    "# install extensions (not necessary)\n",
    "%cd extensions\n",
    "!git clone --depth 1 https://github.com/yfszzx/stable-diffusion-webui-images-browser\n",
    "!git clone --depth 1 https://github.com/toshiaki1729/stable-diffusion-webui-dataset-tag-editor.git\n",
    "clear_output()"
   ]
  },
  {
   "cell_type": "markdown",
   "id": "7778e759-b7cf-4efd-ba00-fab99117184e",
   "metadata": {},
   "source": [
    "## Installation: Download model(s) from Huggingface\n",
    "\n",
    "\n",
    "Alternatively you can use the JupyterLab file browser to upload one or more .ckpt files\n",
    "to the ~/sagemaker-studiolab-notebooks/stable-diffusion-webui/models/Stable-diffusion/ folder\n",
    "\n",
    "There are optional model downloads below this cell, where a Huggingface token is not necessary\n",
    "To save disk space, you can move models to /tmp/models and restart the webui. \n",
    "These models will be deleted when the runtime ends"
   ]
  },
  {
   "cell_type": "markdown",
   "id": "234b0f4c-7acc-4dc4-b792-16770409cd0b",
   "metadata": {},
   "source": [
    "# Download model(s)\n",
    "Check free disk space\n"
   ]
  },
  {
   "cell_type": "code",
   "execution_count": 7,
   "id": "eb8ae0e3-6f17-4c6f-9dbb-24cd400216ee",
   "metadata": {
    "tags": []
   },
   "outputs": [
    {
     "name": "stdout",
     "output_type": "stream",
     "text": [
      "Filesystem      Size  Used Avail Use% Mounted on\n",
      "/dev/nvme2n1     99G   23G   72G  25% /home/ec2-user/SageMaker\n"
     ]
    }
   ],
   "source": [
    "!df -h | grep -E 'Avail|home'"
   ]
  },
  {
   "cell_type": "markdown",
   "id": "74ffd600-b5e8-4b54-822b-15d18face24c",
   "metadata": {},
   "source": [
    "# Huggingface  tokens\n",
    "You only have to enter this once, as the token will persist in ~/.huggingface/token across sessions"
   ]
  },
  {
   "cell_type": "code",
   "execution_count": 8,
   "id": "ef13ecea-086c-46c5-9194-5b0f20716a3b",
   "metadata": {
    "tags": []
   },
   "outputs": [],
   "source": [
    "import ipywidgets as widgets\n",
    "from dotenv import load_dotenv\n",
    "import os\n",
    "\n",
    "# Load values from .env file\n",
    "load_dotenv('.env')\n",
    "\n",
    "# Get the value of HF_TOKEN from .env file\n",
    "hf_token = os.getenv('HF_TOKEN')\n",
    "\n",
    "# Create the token_textbox\n",
    "token_textbox = widgets.Text(\n",
    "    value=hf_token,\n",
    "    description='Token:',\n",
    ")"
   ]
  },
  {
   "cell_type": "code",
   "execution_count": null,
   "id": "7f8179d6-86ae-42ba-8098-6dc64e4923df",
   "metadata": {
    "tags": []
   },
   "outputs": [],
   "source": []
  },
  {
   "cell_type": "code",
   "execution_count": 9,
   "id": "066e2038-e7f9-438c-b8e1-84e5a9bf2324",
   "metadata": {
    "tags": []
   },
   "outputs": [],
   "source": [
    "huggingface_token = hf_token\n",
    "\n",
    "import os\n",
    "\n",
    "token_path = os.path.expanduser('~/.huggingface/token')\n",
    "\n",
    "if os.path.isfile(token_path):\n",
    "    with open(token_path) as f:\n",
    "        lines = f.readlines()\n",
    "    #huggingface_token = lines[0]\n",
    "    huggingface_token =hf_token\n",
    "else:\n",
    "    try:\n",
    "        token_textbox\n",
    "    except NameError:\n",
    "        raise RuntimeError(\"Enter Huggingface token\")\n",
    "    else:\n",
    "        !mkdir -p ~/.huggingface\n",
    "        !echo -n \"{token_textbox.value}\" > ~/.huggingface/token\n",
    "        huggingface_token = token_textbox.value\n",
    "\n",
    "user_header = f\"\\\"Authorization: Bearer {huggingface_token}\\\"\"\n",
    "\n",
    "%cd ~/SageMaker/stable-diffusion-webui/models/Stable-diffusion/\n",
    "\n",
    "# Choose here which model(s) to download #############################################################################\n",
    "\n",
    "# Model 1.4\n",
    "#!wget --header={user_header} https://huggingface.co/CompVis/stable-diffusion-v-1-4-original/resolve/main/sd-v1-4.ckpt\n",
    "\n",
    "# Model 1.5 (8GB) - only necessary for native training, not for embeddings/hypernetworks\n",
    "#!wget --header={user_header} https://huggingface.co/runwayml/stable-diffusion-v1-5/resolve/main/v1-5-pruned.ckpt \n",
    "\n",
    "# Model 1.5 (4GB)\n",
    "!wget --header={user_header} https://huggingface.co/runwayml/stable-diffusion-v1-5/resolve/main/v1-5-pruned-emaonly.ckpt \n",
    "\n",
    "# Inpainting model 1.5 (4GB)\n",
    "#!wget --header={user_header} https://huggingface.co/runwayml/stable-diffusion-inpainting/resolve/main/sd-v1-5-inpainting.ckpt\n",
    "clear_output()"
   ]
  },
  {
   "cell_type": "markdown",
   "id": "2b531b1c-8deb-4e9f-8886-1ea0d7b6ab05",
   "metadata": {
    "tags": []
   },
   "source": [
    "Recommended Optional: Download variational autoencoder (VAE)\n",
    "Doing so can improve the quality of generated images, if you select the VAE in the webui settings\n",
    "\n",
    "Go to these pages and accept the licenses before running the next cell:\n",
    "\n",
    "https://huggingface.co/stabilityai/sd-vae-ft-ema-original\n",
    "\n",
    "https://huggingface.co/stabilityai/sd-vae-ft-mse-original"
   ]
  },
  {
   "cell_type": "code",
   "execution_count": 10,
   "id": "e9c2fe03-17bf-4d3c-908a-cf3cc2ae590d",
   "metadata": {
    "tags": []
   },
   "outputs": [],
   "source": [
    "# sd-vae-ft-ema-original\n",
    "#%cd ~/sagemaker-studiolab-notebooks/stable-diffusion-webui/models/VAE/\n",
    "#!wget --header={user_header} https://huggingface.co/stabilityai/sd-vae-ft-ema-original/resolve/main/vae-ft-ema-560000-ema-pruned.ckpt\n",
    "\n",
    "# sd-vae-ft-mse-original\n",
    "#%cd ~/sagemaker-studiolab-notebooks/stable-diffusion-webui/models/VAE/\n",
    "#!wget --header={user_header} https://huggingface.co/stabilityai/sd-vae-ft-mse-original/resolve/main/vae-ft-mse-840000-ema-pruned.ckpt\n",
    "\n",
    "# sd-vae-ft-mse-original\n",
    "# Use this if you downloaded v1-5-pruned-emaonly.ckpt above and want to autoselect the VAE every time you load this model in the webui\n",
    "%cd ~/SageMaker/stable-diffusion-webui/models/Stable-diffusion/\n",
    "!wget --header={user_header} https://huggingface.co/stabilityai/sd-vae-ft-mse-original/resolve/main/vae-ft-mse-840000-ema-pruned.ckpt -O v1-5-pruned-emaonly.vae.pt \n",
    "clear_output()"
   ]
  },
  {
   "cell_type": "markdown",
   "id": "521d0405-63b1-4b9d-9a98-385b6073a06a",
   "metadata": {
    "tags": []
   },
   "source": [
    "Optional: Download various models\n",
    "Change values from False to True to download a model\n",
    "\n",
    "A Huggingface token is not necessary for these downloads"
   ]
  },
  {
   "cell_type": "code",
   "execution_count": 11,
   "id": "fd4b319c-dbf7-4526-b58a-3e1ba8fff841",
   "metadata": {
    "tags": []
   },
   "outputs": [],
   "source": [
    "############################################################\n",
    "\n",
    "download_to_temp_folder = False # models will be deleted when the SageMaker session ends \n",
    "\n",
    "anything_v3 = False # Anything V3 model with VAE\n",
    "anything_xtron = False # AnythingXtron model\n",
    "gigachad = False # Gigachad model\n",
    "midjourney_v4 = True # Midjourney V4 Diffusion\n",
    "waifu = False # Waifu Division with Anime VAE\n",
    "modidi = False # Modern Disney Diffusion\n",
    "nitrodiffusion = False # Multi-Style Model trained from scratch\n",
    "sd15_cloned = False # Cloned version of model 1.5 (not token necessary)\n",
    "secret_ai = False # Anime/furry model with VAE and hypernetworks\n",
    "\n",
    "############################################################\n",
    "\n",
    "if download_to_temp_folder:\n",
    "    !mkdir -p /tmp/models\n",
    "    %cd ~/SageMaker/stable-diffusion-webui/models/Stable-diffusion/tmp_models\n",
    "else:\n",
    "    %cd ~/SageMaker/stable-diffusion-webui/models/Stable-diffusion/\n",
    "\n",
    "if anything_v3:\n",
    "    !wget https://huggingface.co/Linaqruf/anything-v3.0/resolve/main/Anything-V3.0-pruned.ckpt\n",
    "    !wget https://huggingface.co/Linaqruf/anything-v3.0/resolve/main/Anything-V3.0.vae.pt -O Anything-V3.0-pruned.vae.pt\n",
    "\n",
    "if anything_xtron:\n",
    "    !wget https://huggingface.co/CrasHthe2nd2/anything-tron/resolve/main/anythingXtron.ckpt\n",
    "    !wget https://huggingface.co/CrasHthe2nd2/anything-tron/resolve/main/Anything-V3.0.vae.pt -O anythingXtron.vae.pt\n",
    "\n",
    "if gigachad:\n",
    "    !wget https://huggingface.co/SpiteAnon/gigachad-diffusion/resolve/main/gigachad_2000.ckpt\n",
    "\n",
    "if midjourney_v4:\n",
    "    !wget https://huggingface.co/prompthero/midjourney-v4-diffusion/resolve/main/mdjrny-v4.ckpt\n",
    "\n",
    "if modidi:\n",
    "    !wget https://huggingface.co/nitrosocke/mo-di-diffusion/resolve/main/moDi-v1-pruned.ckpt\n",
    "\n",
    "if nitrodiffusion:\n",
    "    !wget https://huggingface.co/nitrosocke/Nitro-Diffusion/resolve/main/nitroDiffusion-v1.ckpt\n",
    "\n",
    "if sd15_cloned:\n",
    "    !wget https://huggingface.co/acheong08/SD-V1-5-cloned/resolve/main/v1-5-pruned-emaonly.ckpt\n",
    "\n",
    "if secret_ai:\n",
    "    !wget https://huggingface.co/acheong08/secretAI/resolve/main/stableckpt/animefull-final-pruned/model.ckpt -O secret_ai.ckpt\n",
    "    %cd ~/SageMaker/stable-diffusion-webui/models/VAE/\n",
    "    !wget https://huggingface.co/acheong08/secretAI/resolve/main/stableckpt/animevae.pt\n",
    "    !mkdir -p ~/sagemaker-studiolab-notebooks/stable-diffusion-webui/models/hypernetworks/\n",
    "    %cd ~/SageMaker/stable-diffusion-webui/models/hypernetworks/\n",
    "    !wget https://huggingface.co/acheong08/secretAI/resolve/main/stableckpt/modules/modules/aini.pt\n",
    "    !wget https://huggingface.co/acheong08/secretAI/resolve/main/stableckpt/modules/modules/anime.pt\n",
    "    !wget https://huggingface.co/acheong08/secretAI/resolve/main/stableckpt/modules/modules/anime_2.pt\n",
    "    !wget https://huggingface.co/acheong08/secretAI/resolve/main/stableckpt/modules/modules/anime_3.pt\n",
    "    !wget https://huggingface.co/acheong08/secretAI/resolve/main/stableckpt/modules/modules/furry.pt\n",
    "    !wget https://huggingface.co/acheong08/secretAI/resolve/main/stableckpt/modules/modules/furry_2.pt\n",
    "    !wget https://huggingface.co/acheong08/secretAI/resolve/main/stableckpt/modules/modules/furry_3.pt\n",
    "    !wget https://huggingface.co/acheong08/secretAI/resolve/main/stableckpt/modules/modules/furry_kemono.pt\n",
    "    !wget https://huggingface.co/acheong08/secretAI/resolve/main/stableckpt/modules/modules/furry_protogen.pt\n",
    "    !wget https://huggingface.co/acheong08/secretAI/resolve/main/stableckpt/modules/modules/furry_scalie.pt\n",
    "    !wget https://huggingface.co/acheong08/secretAI/resolve/main/stableckpt/modules/modules/furry_transformation.pt\n",
    "    !wget https://huggingface.co/acheong08/secretAI/resolve/main/stableckpt/modules/modules/pony.pt\n",
    "# waifu division\n",
    "if waifu:\n",
    "    %cd ~/SageMaker/stable-diffusion-webui/models/Stable-diffusion/\n",
    "    !wget https://huggingface.co/hakurei/waifu-diffusion-v1-4/resolve/main/models/wd-1-3-penultimate-ucg-cont.ckpt\n",
    "\n",
    "    %cd ~/SageMaker/stable-diffusion-webui/models/VAE/\n",
    "    !wget https://huggingface.co/hakurei/waifu-diffusion-v1-4/resolve/main/vae/kl-f8-anime.ckpt\n",
    "    !wget https://huggingface.co/hakurei/waifu-diffusion-v1-4/resolve/main/vae/kl-f8-anime2.ckpt\n",
    "clear_output()"
   ]
  },
  {
   "cell_type": "markdown",
   "id": "69fdaee7-4599-4636-9666-4659465b1e90",
   "metadata": {
    "tags": []
   },
   "source": [
    "Sources:\n",
    "\n",
    "https://huggingface.co/SpiteAnon/gigachad-diffusion\n",
    "\n",
    "https://huggingface.co/CrasHthe2nd2/anything-tron\n",
    "\n",
    "https://huggingface.co/Linaqruf/anything-v3.0\n",
    "\n",
    "https://huggingface.co/prompthero/midjourney-v4-diffusion\n",
    "\n",
    "https://huggingface.co/hakurei/waifu-diffusion-v1-4\n",
    "\n",
    "https://huggingface.co/nitrosocke/mo-di-diffusion\n",
    "\n",
    "https://huggingface.co/nitrosocke/Nitro-Diffusion\n",
    "\n",
    "https://huggingface.co/acheong08"
   ]
  },
  {
   "cell_type": "markdown",
   "id": "41201e23-009f-4878-b84e-07e44b0c54ad",
   "metadata": {
    "tags": []
   },
   "source": [
    "Installation: Install glib to prevent libgthread error when starting webui\n",
    "You only need to do this once on your SageMaker SL account"
   ]
  },
  {
   "cell_type": "markdown",
   "id": "5e43cf77-1272-4d86-8cc5-dfac39bb5396",
   "metadata": {
    "tags": []
   },
   "source": [
    "## Civitai Models"
   ]
  },
  {
   "cell_type": "code",
   "execution_count": 12,
   "id": "2988e9fc-0059-4ef1-b985-21eaa554e6d8",
   "metadata": {
    "tags": []
   },
   "outputs": [
    {
     "name": "stdout",
     "output_type": "stream",
     "text": [
      "\u001b[34mNow downloading \"AlbedoBase XL\"...\n",
      "            - Model ID: 140737\n",
      "            - Version ID: 329420\n",
      "\u001b[0m\n",
      "Images: 100%|███████████████████████████████| 3.00/3.00 [00:00<00:00, 2.50kiB/s]\n",
      "\u001b[36mModel already existed at the following path:\n",
      "                - Path: /home/ec2-user/SageMaker/home/ec2-user/SageMaker/stable-diffusion-webui/models/Stable-diffusion/AlbedoBase XL/albedobaseXL_v21-mid_140737-vid_329420.safetensors\u001b[0m\n",
      "\u001b[36mCopying to new path...\u001b[0m\n",
      "\u001b[32m\n",
      "Download completed for \"AlbedoBase XL\"\n",
      "            - Model ID: 140737\n",
      "            - Version ID: 329420\n",
      "            - Model Path: ./home/ec2-user/SageMaker/stable-diffusion-webui/models/Stable-diffusion/AlbedoBase XL/albedobaseXL_v21-mid_140737-vid_329420.safetensors\n",
      "            - Hashes Directory Path: ./home/ec2-user/SageMaker/stable-diffusion-webui/models/Stable-diffusion/AlbedoBase XL\n",
      "            - Metadata Directory Path: ./home/ec2-user/SageMaker/stable-diffusion-webui/models/Stable-diffusion/AlbedoBase XL/extra_data-vid_329420\n",
      "            - Images Directory Path: ./home/ec2-user/SageMaker/stable-diffusion-webui/models/Stable-diffusion/AlbedoBase XL/extra_data-vid_329420\n",
      "            - Images Prompt/Metadata Directory Path: ./home/ec2-user/SageMaker/stable-diffusion-webui/models/Stable-diffusion/AlbedoBase XL/extra_data-vid_329420\n",
      "\u001b[0m\n",
      "---------------------------\n",
      "\n"
     ]
    }
   ],
   "source": [
    "!civitdl  \"https://civitai.com/models/140737/albedobase-xl\" ./home/ec2-user/SageMaker/stable-diffusion-webui/models/Stable-diffusion --api-key \"$API_KEY\""
   ]
  },
  {
   "cell_type": "code",
   "execution_count": 13,
   "id": "70634bab-4ec1-4ea2-a71d-65340978c2f2",
   "metadata": {
    "tags": []
   },
   "outputs": [
    {
     "name": "stdout",
     "output_type": "stream",
     "text": [
      "\u001b[34mNow downloading \"DreamShaper\"...\n",
      "            - Model ID: 4384\n",
      "            - Version ID: 128713\n",
      "\u001b[0m\n",
      "Images: 100%|████████████████████████████████| 3.00/3.00 [00:00<00:00, 38.5iB/s]\n",
      "Model: 100%|██████████████████████████████| 2.13G/2.13G [01:03<00:00, 33.6MiB/s]\n",
      "\u001b[32m\n",
      "Download completed for \"DreamShaper\"\n",
      "            - Model ID: 4384\n",
      "            - Version ID: 128713\n",
      "            - Model Path: ./home/ec2-user/SageMaker/stable-diffusion-webui/models/Stable-diffusion/DreamShaper/dreamshaper_8-mid_4384-vid_128713.safetensors\n",
      "            - Hashes Directory Path: ./home/ec2-user/SageMaker/stable-diffusion-webui/models/Stable-diffusion/DreamShaper\n",
      "            - Metadata Directory Path: ./home/ec2-user/SageMaker/stable-diffusion-webui/models/Stable-diffusion/DreamShaper/extra_data-vid_128713\n",
      "            - Images Directory Path: ./home/ec2-user/SageMaker/stable-diffusion-webui/models/Stable-diffusion/DreamShaper/extra_data-vid_128713\n",
      "            - Images Prompt/Metadata Directory Path: ./home/ec2-user/SageMaker/stable-diffusion-webui/models/Stable-diffusion/DreamShaper/extra_data-vid_128713\n",
      "\u001b[0m\n",
      "---------------------------\n",
      "\n"
     ]
    }
   ],
   "source": [
    "!civitdl  \"https://civitai.com/models/4384/dreamshaper,\" ./home/ec2-user/SageMaker/stable-diffusion-webui/models/Stable-diffusion --api-key \"$API_KEY\""
   ]
  },
  {
   "cell_type": "code",
   "execution_count": 14,
   "id": "bf6c751f-526f-42b1-b9d2-1631a41c164d",
   "metadata": {
    "tags": []
   },
   "outputs": [
    {
     "name": "stdout",
     "output_type": "stream",
     "text": [
      "\u001b[34mNow downloading \"AlbedoBase XL\"...\n",
      "            - Model ID: 140737\n",
      "            - Version ID: 329420\n",
      "\u001b[0m\n",
      "Images: 100%|████████████████████████████████| 3.00/3.00 [00:00<00:00, 46.5iB/s]\n",
      "\u001b[36mModel already existed at the following path:\n",
      "                - Path: /home/ec2-user/SageMaker/stable-diffusion-webui/models/Stable-diffusion/home/ec2-user/SageMaker/stable-diffusion-webui/models/Stable-diffusion/AlbedoBase XL/albedobaseXL_v21-mid_140737-vid_329420.safetensors\u001b[0m\n",
      "\u001b[36mCopying to new path...\u001b[0m\n",
      "---------\n",
      "\u001b[31m'/home/ec2-user/SageMaker/stable-diffusion-webui/models/Stable-diffusion/home/ec2-user/SageMaker/stable-diffusion-webui/models/Stable-diffusion/AlbedoBase XL/albedobaseXL_v21-mid_140737-vid_329420.safetensors' and './home/ec2-user/SageMaker/stable-diffusion-webui/models/Stable-diffusion/AlbedoBase XL/albedobaseXL_v21-mid_140737-vid_329420.safetensors' are the same file\u001b[0m \n",
      "\n",
      "---------\n",
      "\u001b[35mNow downloading \"Juggernaut\"...\n",
      "            - Model ID: 46422\n",
      "            - Version ID: 274039\n",
      "\u001b[0m\n",
      "Images: 100%|███████████████████████████████| 3.00/3.00 [00:00<00:00, 3.37kiB/s]\n",
      "Model: 100%|██████████████████████████████| 2.13G/2.13G [00:43<00:00, 49.0MiB/s]\n",
      "\u001b[32m\n",
      "Download completed for \"Juggernaut\"\n",
      "            - Model ID: 46422\n",
      "            - Version ID: 274039\n",
      "            - Model Path: ./home/ec2-user/SageMaker/stable-diffusion-webui/models/Stable-diffusion/Juggernaut/juggernaut_reborn-mid_46422-vid_274039.safetensors\n",
      "            - Hashes Directory Path: ./home/ec2-user/SageMaker/stable-diffusion-webui/models/Stable-diffusion/Juggernaut\n",
      "            - Metadata Directory Path: ./home/ec2-user/SageMaker/stable-diffusion-webui/models/Stable-diffusion/Juggernaut/extra_data-vid_274039\n",
      "            - Images Directory Path: ./home/ec2-user/SageMaker/stable-diffusion-webui/models/Stable-diffusion/Juggernaut/extra_data-vid_274039\n",
      "            - Images Prompt/Metadata Directory Path: ./home/ec2-user/SageMaker/stable-diffusion-webui/models/Stable-diffusion/Juggernaut/extra_data-vid_274039\n",
      "\u001b[0m\n",
      "---------------------------\n",
      "\n"
     ]
    }
   ],
   "source": [
    "text = '''https://civitai.com/models/140737/albedobase-xl,\n",
    "https://civitai.com/models/46422/juggernaut,\n",
    "\n",
    "'''\n",
    "models = text.split('\\n')\n",
    "with open('batchfile.txt', 'w') as file:\n",
    "    for model in models:\n",
    "        file.write(model + '\\n')\n",
    "!civitdl  batchfile.txt  ./home/ec2-user/SageMaker/stable-diffusion-webui/models/Stable-diffusion --api-key \"$API_KEY\""
   ]
  },
  {
   "cell_type": "markdown",
   "id": "94fc567c-4c5b-4572-9050-b78567905572",
   "metadata": {},
   "source": [
    "# Installation  Stable Diffusion Webui"
   ]
  },
  {
   "cell_type": "code",
   "execution_count": 15,
   "id": "48b4970f-8f75-4216-b2b1-cf907565ad2a",
   "metadata": {
    "tags": []
   },
   "outputs": [],
   "source": [
    "#!conda install glib=2.51.0 -y\n",
    "\n",
    "#Update: Change into Web UI directory and download updates\n",
    "\n",
    "#This is not strictly necessary. You can run this every time before you start the webui\n",
    "\n",
    "%cd ~/SageMaker/stable-diffusion-webui\n",
    "!git pull\n",
    "#Update: Install webui requirements.txt\n",
    "#This is necessary sometimes after you did a !git pull above\n",
    "\n",
    "%cd ~/SageMaker/stable-diffusion-webui\n",
    "%pip install -r requirements.txt\n",
    "clear_output()"
   ]
  },
  {
   "cell_type": "markdown",
   "id": "da597d9b-cbf4-42f7-8d42-be7a86a90cf1",
   "metadata": {
    "tags": []
   },
   "source": [
    "\n",
    "Note that every time you stop the SageMaker Studio Lab runtime the generated images will be lost, as they are stored in the /tmp folder"
   ]
  },
  {
   "cell_type": "code",
   "execution_count": 16,
   "id": "e1999153-43a8-4f26-a1ea-1e8f505e2275",
   "metadata": {
    "tags": []
   },
   "outputs": [],
   "source": [
    "##################################\n",
    "\n",
    "WEBUI_USERNAME=\"genius\"\n",
    "WEBUI_PASSWORD=\"artist\"\n",
    "\n",
    "##################################\n"
   ]
  },
  {
   "cell_type": "code",
   "execution_count": 17,
   "id": "58d23050-b916-42c1-94c0-41f69c9df6b3",
   "metadata": {
    "tags": []
   },
   "outputs": [
    {
     "name": "stdout",
     "output_type": "stream",
     "text": [
      "/home/ec2-user/SageMaker/stable-diffusion-webui\n"
     ]
    }
   ],
   "source": [
    "!pwd"
   ]
  },
  {
   "cell_type": "code",
   "execution_count": 18,
   "id": "33c886b1-7f11-4810-acf0-9b5ee5f7eee0",
   "metadata": {
    "tags": []
   },
   "outputs": [],
   "source": [
    "# create /tmp/outputs folder for storing generated images for this session\n",
    "!mkdir -p /tmp/outputs\n",
    "!mkdir -p /tmp/models"
   ]
  },
  {
   "cell_type": "code",
   "execution_count": 19,
   "id": "1001e2a6-bf98-4d46-8322-998a2ddd5eaf",
   "metadata": {
    "tags": []
   },
   "outputs": [
    {
     "name": "stdout",
     "output_type": "stream",
     "text": [
      "/dev/nvme2n1     99G   40G   55G  42% /home/ec2-user/SageMaker\n"
     ]
    }
   ],
   "source": [
    "!df -h | grep home"
   ]
  },
  {
   "cell_type": "code",
   "execution_count": 20,
   "id": "272a6a7c-f3a7-4920-acb7-bfec341c2043",
   "metadata": {
    "tags": []
   },
   "outputs": [],
   "source": [
    "##################################\n",
    "\n",
    "WEBUI_USERNAME = \"genius\"\n",
    "WEBUI_PASSWORD = \"artist\"\n",
    "\n",
    "##################################\n"
   ]
  },
  {
   "cell_type": "code",
   "execution_count": null,
   "id": "a74dceb1-c726-475f-ac99-fe447c693d47",
   "metadata": {
    "tags": []
   },
   "outputs": [
    {
     "name": "stdout",
     "output_type": "stream",
     "text": [
      "/home/ec2-user/SageMaker/stable-diffusion-webui\n",
      "Python 3.10.11 | packaged by conda-forge | (main, May 10 2023, 18:58:44) [GCC 11.3.0]\n",
      "Version: v1.7.0\n",
      "Commit hash: cf2772fab0af5573da775e7437e6acdca424f26e\n",
      "Cloning Stable Diffusion into /home/ec2-user/SageMaker/stable-diffusion-webui/repositories/stable-diffusion-stability-ai...\n",
      "Cloning into '/home/ec2-user/SageMaker/stable-diffusion-webui/repositories/stable-diffusion-stability-ai'...\n",
      "remote: Enumerating objects: 580, done.\u001b[K\n",
      "remote: Counting objects: 100% (357/357), done.\u001b[K\n",
      "remote: Compressing objects: 100% (128/128), done.\u001b[K\n",
      "remote: Total 580 (delta 260), reused 229 (delta 229), pack-reused 223\u001b[K\n",
      "Receiving objects: 100% (580/580), 73.44 MiB | 66.08 MiB/s, done.\n",
      "Resolving deltas: 100% (279/279), done.\n",
      "Cloning Stable Diffusion XL into /home/ec2-user/SageMaker/stable-diffusion-webui/repositories/generative-models...\n",
      "Cloning into '/home/ec2-user/SageMaker/stable-diffusion-webui/repositories/generative-models'...\n",
      "remote: Enumerating objects: 860, done.\u001b[K\n",
      "remote: Counting objects: 100% (489/489), done.\u001b[K\n",
      "remote: Compressing objects: 100% (222/222), done.\u001b[K\n",
      "remote: Total 860 (delta 368), reused 267 (delta 267), pack-reused 371\u001b[K\n",
      "Receiving objects: 100% (860/860), 42.67 MiB | 54.61 MiB/s, done.\n",
      "Resolving deltas: 100% (445/445), done.\n",
      "Cloning K-diffusion into /home/ec2-user/SageMaker/stable-diffusion-webui/repositories/k-diffusion...\n",
      "Cloning into '/home/ec2-user/SageMaker/stable-diffusion-webui/repositories/k-diffusion'...\n",
      "remote: Enumerating objects: 1340, done.\u001b[K\n",
      "remote: Counting objects: 100% (622/622), done.\u001b[K\n",
      "remote: Compressing objects: 100% (86/86), done.\u001b[K\n",
      "remote: Total 1340 (delta 576), reused 547 (delta 536), pack-reused 718\u001b[K\n",
      "Receiving objects: 100% (1340/1340), 242.04 KiB | 24.20 MiB/s, done.\n",
      "Resolving deltas: 100% (939/939), done.\n",
      "Cloning CodeFormer into /home/ec2-user/SageMaker/stable-diffusion-webui/repositories/CodeFormer...\n",
      "Cloning into '/home/ec2-user/SageMaker/stable-diffusion-webui/repositories/CodeFormer'...\n",
      "remote: Enumerating objects: 594, done.\u001b[K\n",
      "remote: Counting objects: 100% (594/594), done.\u001b[K\n",
      "remote: Compressing objects: 100% (317/317), done.\u001b[K\n",
      "remote: Total 594 (delta 288), reused 491 (delta 268), pack-reused 0\u001b[K\n",
      "Receiving objects: 100% (594/594), 17.31 MiB | 58.88 MiB/s, done.\n",
      "Resolving deltas: 100% (288/288), done.\n",
      "Cloning BLIP into /home/ec2-user/SageMaker/stable-diffusion-webui/repositories/BLIP...\n",
      "Cloning into '/home/ec2-user/SageMaker/stable-diffusion-webui/repositories/BLIP'...\n",
      "remote: Enumerating objects: 277, done.\u001b[K\n",
      "remote: Counting objects: 100% (165/165), done.\u001b[K\n",
      "remote: Compressing objects: 100% (30/30), done.\u001b[K\n",
      "remote: Total 277 (delta 137), reused 136 (delta 135), pack-reused 112\u001b[K\n",
      "Receiving objects: 100% (277/277), 7.03 MiB | 48.02 MiB/s, done.\n",
      "Resolving deltas: 100% (152/152), done.\n",
      "Launching Web UI with arguments: --disable-console-progressbars --gradio-debug --gradio-auth genius:artist --share\n",
      "no module 'xformers'. Processing without...\n",
      "no module 'xformers'. Processing without...\n",
      "No module 'xformers'. Proceeding without it.\n",
      "Style database not found: /home/ec2-user/SageMaker/stable-diffusion-webui/styles.csv\n",
      "Checkpoint  not found; loading fallback mdjrny-v4.ckpt\n",
      "/home/ec2-user/SageMaker/stable-diffusion-webui/extensions/stable-diffusion-webui-dataset-tag-editor/scripts/main.py:218: GradioDeprecationWarning: The `style` method is deprecated. Please set these arguments in the constructor instead.\n",
      "  with gr.Row().style(equal_height=False):\n",
      "/home/ec2-user/SageMaker/stable-diffusion-webui/extensions/stable-diffusion-webui-dataset-tag-editor/scripts/tag_editor_ui/block_dataset_gallery.py:25: GradioDeprecationWarning: The `style` method is deprecated. Please set these arguments in the constructor instead.\n",
      "  self.gl_dataset_images = gr.Gallery(label='Dataset Images', elem_id=\"dataset_tag_editor_dataset_gallery\").style(grid=image_columns)\n",
      "/home/ec2-user/SageMaker/stable-diffusion-webui/extensions/stable-diffusion-webui-dataset-tag-editor/scripts/tag_editor_ui/block_dataset_gallery.py:25: GradioDeprecationWarning: The 'grid' parameter will be deprecated. Please use 'columns' in the constructor instead.\n",
      "  self.gl_dataset_images = gr.Gallery(label='Dataset Images', elem_id=\"dataset_tag_editor_dataset_gallery\").style(grid=image_columns)\n",
      "/home/ec2-user/SageMaker/stable-diffusion-webui/extensions/stable-diffusion-webui-dataset-tag-editor/scripts/tag_editor_ui/tab_filter_by_selection.py:35: GradioDeprecationWarning: The `style` method is deprecated. Please set these arguments in the constructor instead.\n",
      "  self.gl_filter_images = gr.Gallery(label='Filter Images', elem_id=\"dataset_tag_editor_filter_gallery\").style(grid=image_columns)\n",
      "/home/ec2-user/SageMaker/stable-diffusion-webui/extensions/stable-diffusion-webui-dataset-tag-editor/scripts/tag_editor_ui/tab_filter_by_selection.py:35: GradioDeprecationWarning: The 'grid' parameter will be deprecated. Please use 'columns' in the constructor instead.\n",
      "  self.gl_filter_images = gr.Gallery(label='Filter Images', elem_id=\"dataset_tag_editor_filter_gallery\").style(grid=image_columns)\n",
      "/home/ec2-user/SageMaker/stable-diffusion-webui/extensions/stable-diffusion-webui-images-browser/scripts/images_history.py:214: GradioDeprecationWarning: The `style` method is deprecated. Please set these arguments in the constructor instead.\n",
      "  history_gallery = gr.Gallery(show_label=False, elem_id=tabname + \"_images_history_gallery\").style(grid=opts.images_history_page_columns)\n",
      "/home/ec2-user/SageMaker/stable-diffusion-webui/extensions/stable-diffusion-webui-images-browser/scripts/images_history.py:214: GradioDeprecationWarning: The 'grid' parameter will be deprecated. Please use 'columns' in the constructor instead.\n",
      "  history_gallery = gr.Gallery(show_label=False, elem_id=tabname + \"_images_history_gallery\").style(grid=opts.images_history_page_columns)\n",
      "Calculating sha256 for /home/ec2-user/SageMaker/stable-diffusion-webui/models/Stable-diffusion/mdjrny-v4.ckpt: Running on local URL:  http://127.0.0.1:7860\n",
      "Running on public URL: https://4d423d1284721c4a88.gradio.live\n",
      "\n",
      "This share link expires in 72 hours. For free permanent hosting and GPU upgrades, run `gradio deploy` from Terminal to deploy to Spaces (https://huggingface.co/spaces)\n",
      "5d5ad06cc24170b32f25f0180a357e315848000c5f400ffda350e59142fabd68\n",
      "Loading weights [5d5ad06cc2] from /home/ec2-user/SageMaker/stable-diffusion-webui/models/Stable-diffusion/mdjrny-v4.ckpt\n",
      "Creating model from config: /home/ec2-user/SageMaker/stable-diffusion-webui/configs/v1-inference.yaml\n",
      "vocab.json: 100%|████████████████████████████| 961k/961k [00:00<00:00, 51.3MB/s]\n",
      "merges.txt: 100%|████████████████████████████| 525k/525k [00:00<00:00, 43.9MB/s]\n",
      "special_tokens_map.json: 100%|█████████████████| 389/389 [00:00<00:00, 2.47MB/s]\n",
      "tokenizer_config.json: 100%|███████████████████| 905/905 [00:00<00:00, 5.15MB/s]\n",
      "config.json: 100%|█████████████████████████| 4.52k/4.52k [00:00<00:00, 24.8MB/s]\n",
      "Applying attention optimization: Doggettx... done.\n",
      "Model loaded in 33.5s (calculate hash: 17.3s, load weights from disk: 1.5s, create model: 1.7s, apply weights to model: 1.3s, load textual inversion embeddings: 1.7s, calculate empty prompt: 9.8s).\n",
      "100%|███████████████████████████████████████████| 20/20 [00:14<00:00,  1.38it/s]\n",
      "Reusing loaded model mdjrny-v4.ckpt [5d5ad06cc2] to load AlbedoBase XL/albedobaseXL_v21-mid_140737-vid_329420.safetensors\n",
      "Calculating sha256 for /home/ec2-user/SageMaker/stable-diffusion-webui/models/Stable-diffusion/home/ec2-user/SageMaker/stable-diffusion-webui/models/Stable-diffusion/AlbedoBase XL/albedobaseXL_v21-mid_140737-vid_329420.safetensors: 1718b5bb2da1ef4815fee8af8a7fc2fa8ab8f467b279eded4d991ea0cce59a6d\n",
      "Loading weights [1718b5bb2d] from /home/ec2-user/SageMaker/stable-diffusion-webui/models/Stable-diffusion/home/ec2-user/SageMaker/stable-diffusion-webui/models/Stable-diffusion/AlbedoBase XL/albedobaseXL_v21-mid_140737-vid_329420.safetensors\n",
      "Creating model from config: /home/ec2-user/SageMaker/stable-diffusion-webui/repositories/generative-models/configs/inference/sd_xl_base.yaml\n",
      "Applying attention optimization: Doggettx... done.\n",
      "Model loaded in 4.7s (create model: 1.0s, apply weights to model: 2.8s, apply half(): 0.2s, calculate empty prompt: 0.5s).\n",
      "Downloading VAEApprox model to: /home/ec2-user/SageMaker/stable-diffusion-webui/models/VAE-approx/vaeapprox-sdxl.pt\n",
      "100%|████████████████████████████████████████| 209k/209k [00:00<00:00, 42.0MB/s]\n",
      "100%|███████████████████████████████████████████| 20/20 [00:04<00:00,  4.37it/s]\n",
      "100%|███████████████████████████████████████████| 20/20 [00:04<00:00,  4.26it/s]\n",
      "100%|███████████████████████████████████████████| 20/20 [00:04<00:00,  4.43it/s]\n",
      "100%|███████████████████████████████████████████| 20/20 [00:14<00:00,  1.40it/s]\n",
      "100%|███████████████████████████████████████████| 20/20 [00:14<00:00,  1.41it/s]\n",
      "100%|███████████████████████████████████████████| 20/20 [00:14<00:00,  1.40it/s]\n",
      "100%|███████████████████████████████████████████| 20/20 [00:14<00:00,  1.39it/s]\n",
      "100%|███████████████████████████████████████████| 20/20 [00:14<00:00,  1.38it/s]\n",
      "100%|███████████████████████████████████████████| 20/20 [00:14<00:00,  1.40it/s]\n",
      "100%|███████████████████████████████████████████| 20/20 [00:04<00:00,  4.34it/s]\n",
      "100%|███████████████████████████████████████████| 20/20 [00:04<00:00,  4.47it/s]\n",
      "100%|███████████████████████████████████████████| 20/20 [00:04<00:00,  4.47it/s]\n"
     ]
    }
   ],
   "source": [
    "# launch webui\n",
    "%cd ~/SageMaker/stable-diffusion-webui\n",
    "ARGS=\"--disable-console-progressbars --gradio-debug --gradio-auth \"+ WEBUI_USERNAME + \":\" + WEBUI_PASSWORD+\" --share\"\n",
    "!COMMANDLINE_ARGS=\"$ARGS\" REQS_FILE=\"requirements.txt\" python launch.py"
   ]
  },
  {
   "cell_type": "markdown",
   "id": "b0e9d16b-f35d-4fc3-b6bc-fd39f40f26cc",
   "metadata": {
    "tags": []
   },
   "source": [
    "Commandline arguments are:\n",
    "```\n",
    "--share - create online gradio.app link (currently this doesn't work on SageMaker SL)\n",
    "--gradio-debug - print outputs to console\n",
    "--ngrok - start ngrok reverse proxy with supplied auth token\n",
    "```\n",
    "End: Commands for after you're done with a session\n",
    "\n",
    "```bash\n",
    "COMMANDLINE_ARGS=\"--disable-console-progressbars --gradio-debug --gradio-auth genius:artist --share\"\n",
    "python launch.py $COMMANDLINE_ARGS\n",
    "```"
   ]
  },
  {
   "cell_type": "markdown",
   "id": "9680dc84-ace2-4bfe-9c18-276da360a9eb",
   "metadata": {
    "tags": []
   },
   "source": [
    "Click the square stop button before running these cells\n",
    "Create .tar.gz archive of images for downloading\n",
    "Location will be ~/sagemaker-studiolab-notebooks/tmp/outputs.tar.gz and /tmp/outputs.tar.gz"
   ]
  },
  {
   "cell_type": "code",
   "execution_count": null,
   "id": "3bf1619e-2ea3-4565-bfb1-4ad5d613bc30",
   "metadata": {
    "tags": []
   },
   "outputs": [],
   "source": [
    "%cd /tmp\n",
    "!echo \"Creating archive. Please wait...\"\n",
    "!tar -czf /tmp/outputs.tar.gz outputs\n",
    "!echo \"You can now download the archive with generated images\""
   ]
  }
 ],
 "metadata": {
  "kernelspec": {
   "display_name": "conda_automatic",
   "language": "python",
   "name": "conda_automatic"
  },
  "language_info": {
   "codemirror_mode": {
    "name": "ipython",
    "version": 3
   },
   "file_extension": ".py",
   "mimetype": "text/x-python",
   "name": "python",
   "nbconvert_exporter": "python",
   "pygments_lexer": "ipython3",
   "version": "3.10.11"
  }
 },
 "nbformat": 4,
 "nbformat_minor": 5
}
