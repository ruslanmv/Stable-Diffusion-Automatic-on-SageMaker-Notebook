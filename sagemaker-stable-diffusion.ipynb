{
 "cells": [
  {
   "cell_type": "markdown",
   "id": "8d426760-92e1-4d9f-a6d3-f00964e40519",
   "metadata": {},
   "source": [
    "# SageMaker Notebook "
   ]
  },
  {
   "cell_type": "markdown",
   "id": "f0ce5501-4003-4880-bd3b-bedc51113f09",
   "metadata": {},
   "source": [
    "First we check that we are on the right enviroment "
   ]
  },
  {
   "cell_type": "code",
   "execution_count": 1,
   "id": "1f702294-b36e-463f-a428-1d4fb559fcf1",
   "metadata": {
    "tags": []
   },
   "outputs": [
    {
     "name": "stdout",
     "output_type": "stream",
     "text": [
      "automatic\n",
      "/home/ec2-user/anaconda3/envs/automatic/bin/python\n",
      "# conda environments:\n",
      "#\n",
      "base                     /home/ec2-user/anaconda3\n",
      "JupyterSystemEnv         /home/ec2-user/anaconda3/envs/JupyterSystemEnv\n",
      "R                        /home/ec2-user/anaconda3/envs/R\n",
      "automatic             *  /home/ec2-user/anaconda3/envs/automatic\n",
      "python3                  /home/ec2-user/anaconda3/envs/python3\n",
      "pytorch_p310             /home/ec2-user/anaconda3/envs/pytorch_p310\n",
      "tensorflow2_p310         /home/ec2-user/anaconda3/envs/tensorflow2_p310\n",
      "\n",
      "Python 3.10.11\n"
     ]
    }
   ],
   "source": [
    "!echo $CONDA_DEFAULT_ENV\n",
    "import sys\n",
    "from IPython.display import clear_output\n",
    "print(sys.executable)\n",
    "!conda info --envs\n",
    "!python --version"
   ]
  },
  {
   "cell_type": "markdown",
   "id": "9b4ad311-38b5-4f14-8968-f86a6893ffed",
   "metadata": {},
   "source": [
    "## Additional Packages for SageMaker"
   ]
  },
  {
   "cell_type": "code",
   "execution_count": 2,
   "id": "e3ea2a98-67e9-4516-9255-662118282094",
   "metadata": {
    "tags": []
   },
   "outputs": [],
   "source": [
    "!pip install ipywidgets\n",
    "%pip install gdown\n",
    "!pip3 install civitdl\n",
    "!pip install python-dotenv\n",
    "clear_output()"
   ]
  },
  {
   "cell_type": "markdown",
   "id": "00d45daa-9ebc-4467-9bb8-50ac8dcf4769",
   "metadata": {},
   "source": [
    "## Hugging Face and Civitai keys"
   ]
  },
  {
   "cell_type": "code",
   "execution_count": 3,
   "id": "4cf1613a-d803-47f8-8070-7b8825eb7177",
   "metadata": {
    "tags": []
   },
   "outputs": [],
   "source": [
    "import ipywidgets as widgets\n",
    "from dotenv import load_dotenv\n",
    "import os\n",
    "\n",
    "# Load values from .env file\n",
    "load_dotenv('.env')\n",
    "# Get the value of HF_TOKEN from .env file\n",
    "hf_token = os.getenv('HF_TOKEN')\n",
    "# Get the value of API_KEY civitai from .env file\n",
    "API_KEY = os.getenv('API_KEY')"
   ]
  },
  {
   "cell_type": "markdown",
   "id": "436fbe04-f202-408e-bbfc-4d9960d902b2",
   "metadata": {
    "tags": []
   },
   "source": [
    "# Installation: Clone webui repository\n"
   ]
  },
  {
   "cell_type": "code",
   "execution_count": 4,
   "id": "07a1dd0d-0d26-46a4-bca7-606441d7e5d7",
   "metadata": {
    "tags": []
   },
   "outputs": [],
   "source": [
    "%cd ~/SageMaker/\n",
    "!git clone --depth 1 https://github.com/AUTOMATIC1111/stable-diffusion-webui\n",
    "#create softlink to /tmp/outputs for storing images\n",
    "#contents of /tmp folder will be deleted when each session ends\n",
    "!ln -vs /tmp/outputs stable-diffusion-webui/outputs\n",
    "#create softlink to /tmp in ~/sagemaker-studiolab-notebooks/\n",
    "!ln -vs /tmp ~/sagemaker-studiolab-notebooks/tmp\n",
    "#create softlink to /tmp/models in stable-diffusion-webui/models/Stable-diffusion/\n",
    "!ln -vs /tmp/models stable-diffusion-webui/models/Stable-diffusion/tmp_models\n",
    "# change default settings (not necessary)\n",
    "%cd stable-diffusion-webui\n",
    "!wget https://raw.githubusercontent.com/Miraculix200/StableDiffusionUI_Colab/main/config.json\n",
    "!wget https://raw.githubusercontent.com/Miraculix200/StableDiffusionUI_Colab/main/ui-config.json\n",
    "learning_rate = \"5e-5:100, 5e-6:1500, 5e-7:2000, 5e-5:2100, 5e-7:3000, 5e-5:3100, 5e-7:4000, 5e-5:4100, 5e-7:5000, 5e-5:5100, 5e-7:6000, 5e-5:6100, 5e-7:7000, 5e-5:7100, 5e-7:8000, 5e-5:8100, 5e-7:9000, 5e-5:9100, 5e-7:10000, 5e-6:10100, 5e-8:11000, 5e-6:11100, 5e-8:12000, 5e-6:12100, 5e-8:13000, 5e-6:13100, 5e-8:14000, 5e-6:14100, 5e-8:15000, 5e-6:15100, 5e-8:16000, 5e-6:16100, 5e-8:17000, 5e-6:17100, 5e-8:18000, 5e-6:18100, 5e-8:19000, 5e-6:19100, 5e-8:20000, 5e-5:20100, 5e-7:21000, 5e-5:21100, 5e-7:22000, 5e-5:22100, 5e-7:23000, 5e-5:23100, 5e-7:24000, 5e-5:24100, 5e-7:25000, 5e-5:25100, 5e-7:26000, 5e-5:26100, 5e-7:27000, 5e-5:27100, 5e-7:28000, 5e-5:28100, 5e-7:29000, 5e-5:29100, 5e-7:30000, 5e-6:30100, 5e-8:31000, 5e-6:31100, 5e-8:32000, 5e-6:32100, 5e-8:33000, 5e-6:33100, 5e-8:34000, 5e-6:34100, 5e-8:35000, 5e-6:35100, 5e-8:36000, 5e-6:36100, 5e-8:37000, 5e-6:37100, 5e-8:38000, 5e-6:38100, 5e-8:39000, 5e-6:39100, 5e-8:40000\"\n",
    "!echo \"a photo of a [filewords]\" >textual_inversion_templates/hypernetwork2.txt\n",
    "# install extensions (not necessary)\n",
    "%cd extensions\n",
    "!git clone --depth 1 https://github.com/yfszzx/stable-diffusion-webui-images-browser\n",
    "!git clone --depth 1 https://github.com/toshiaki1729/stable-diffusion-webui-dataset-tag-editor.git\n",
    "clear_output()"
   ]
  },
  {
   "cell_type": "markdown",
   "id": "7778e759-b7cf-4efd-ba00-fab99117184e",
   "metadata": {},
   "source": [
    "## Installation: Download model(s) from Huggingface and Civitai\n",
    "\n",
    "Alternatively you can use the JupyterLab file browser to upload one or more .ckpt files\n",
    "to the ~/sagemaker-studiolab-notebooks/stable-diffusion-webui/models/Stable-diffusion/ folder\n",
    "\n",
    "There are optional model downloads below this cell, where a Huggingface token is not necessary\n",
    "To save disk space, you can move models to /tmp/models and restart the webui. \n",
    "These models will be deleted when the runtime ends"
   ]
  },
  {
   "cell_type": "markdown",
   "id": "234b0f4c-7acc-4dc4-b792-16770409cd0b",
   "metadata": {},
   "source": [
    "# Download model(s)\n",
    "Check free disk space\n"
   ]
  },
  {
   "cell_type": "code",
   "execution_count": 5,
   "id": "eb8ae0e3-6f17-4c6f-9dbb-24cd400216ee",
   "metadata": {
    "tags": []
   },
   "outputs": [
    {
     "name": "stdout",
     "output_type": "stream",
     "text": [
      "Filesystem      Size  Used Avail Use% Mounted on\n",
      "/dev/nvme2n1     99G   55G   40G  59% /home/ec2-user/SageMaker\n"
     ]
    }
   ],
   "source": [
    "!df -h | grep -E 'Avail|home'"
   ]
  },
  {
   "cell_type": "markdown",
   "id": "74ffd600-b5e8-4b54-822b-15d18face24c",
   "metadata": {},
   "source": [
    "# Huggingface  models\n",
    "You only have to enter this once, as the token will persist in ~/.huggingface/token across sessions"
   ]
  },
  {
   "cell_type": "code",
   "execution_count": 6,
   "id": "066e2038-e7f9-438c-b8e1-84e5a9bf2324",
   "metadata": {
    "tags": []
   },
   "outputs": [],
   "source": [
    "# Create the token_textbox\n",
    "token_textbox = widgets.Text(\n",
    "    value=hf_token,\n",
    "    description='Token:',\n",
    ")\n",
    "huggingface_token = hf_token\n",
    "import os\n",
    "token_path = os.path.expanduser('~/.huggingface/token')\n",
    "if os.path.isfile(token_path):\n",
    "    with open(token_path) as f:\n",
    "        lines = f.readlines()\n",
    "    #huggingface_token = lines[0]\n",
    "    huggingface_token =hf_token\n",
    "else:\n",
    "    try:\n",
    "        token_textbox\n",
    "    except NameError:\n",
    "        raise RuntimeError(\"Enter Huggingface token\")\n",
    "    else:\n",
    "        !mkdir -p ~/.huggingface\n",
    "        !echo -n \"{token_textbox.value}\" > ~/.huggingface/token\n",
    "        huggingface_token = token_textbox.value\n",
    "\n",
    "user_header = f\"\\\"Authorization: Bearer {huggingface_token}\\\"\"\n",
    "\n",
    "import os\n",
    "\n",
    "model_paths = [\n",
    "    # Model 1.4\n",
    "    #\"https://huggingface.co/CompVis/stable-diffusion-v-1-4-original/resolve/main/sd-v1-4.ckpt\",\n",
    "    # Model 1.5 (8GB) - only necessary for native training, not for embeddings/hypernetworks\n",
    "    #\"https://huggingface.co/runwayml/stable-diffusion-v1-5/resolve/main/v1-5-pruned.ckpt\",\n",
    "    # Model 1.5 (4GB)\n",
    "    \"https://huggingface.co/runwayml/stable-diffusion-v1-5/resolve/main/v1-5-pruned-emaonly.ckpt\",\n",
    "    # Inpainting model 1.5 (4GB)\n",
    "    #\"https://huggingface.co/runwayml/stable-diffusion-inpainting/resolve/main/sd-v1-5-inpainting.ckpt\"\n",
    "]\n",
    "\n",
    "download_folder = \"~/SageMaker/stable-diffusion-webui/models/Stable-diffusion/\"\n",
    "\n",
    "# Change the working directory\n",
    "%cd {download_folder}\n",
    "\n",
    "user_header = f\"\\\"Authorization: Bearer {huggingface_token}\\\"\"\n",
    "\n",
    "for model_path in model_paths:\n",
    "    file_name = os.path.basename(model_path)\n",
    "    file_path = os.path.join(download_folder, file_name)\n",
    "\n",
    "    if not os.path.exists(file_path):\n",
    "        print(f\"Downloading {file_name}...\")\n",
    "        !wget --header={user_header} {model_path}\n",
    "    else:\n",
    "        print(f\"{file_name} already exists, skipping download.\")\n",
    "\n",
    "# Clear the output\n",
    "clear_output()"
   ]
  },
  {
   "cell_type": "markdown",
   "id": "2b531b1c-8deb-4e9f-8886-1ea0d7b6ab05",
   "metadata": {
    "tags": []
   },
   "source": [
    "Recommended Optional: Download variational autoencoder (VAE)\n",
    "Doing so can improve the quality of generated images, if you select the VAE in the webui settings\n",
    "\n",
    "Go to these pages and accept the licenses before running the next cell:\n",
    "\n",
    "https://huggingface.co/stabilityai/sd-vae-ft-ema-original\n",
    "\n",
    "https://huggingface.co/stabilityai/sd-vae-ft-mse-original"
   ]
  },
  {
   "cell_type": "code",
   "execution_count": 7,
   "id": "bcfa05f4-e236-451e-839f-b6064a21a94d",
   "metadata": {},
   "outputs": [],
   "source": [
    "import os\n",
    "\n",
    "# Define the model paths\n",
    "# sd-vae-ft-ema-original\n",
    " # sd-vae-ft-mse-original\n",
    "\n",
    "model_paths = [\n",
    "    \"https://huggingface.co/stabilityai/sd-vae-ft-ema-original/resolve/main/vae-ft-ema-560000-ema-pruned.ckpt\",  \n",
    "    \"https://huggingface.co/stabilityai/sd-vae-ft-mse-original/resolve/main/vae-ft-mse-840000-ema-pruned.ckpt\"  \n",
    "]\n",
    "# Define the download folder\n",
    "download_folder = \"~/SageMaker/stable-diffusion-webui/models/VAE/\"\n",
    "# Change the working directory\n",
    "%cd {download_folder}\n",
    "user_header = f\"\\\"Authorization: Bearer {huggingface_token}\\\"\"\n",
    "for model_path in model_paths:\n",
    "    file_name = os.path.basename(model_path)\n",
    "    file_path = os.path.join(download_folder, file_name)\n",
    "    if not os.path.exists(file_path):\n",
    "        print(f\"Downloading {file_name}...\")\n",
    "        !wget --header={user_header} {model_path}\n",
    "    else:\n",
    "        print(f\"{file_name} already exists, skipping download.\")\n",
    "# Clear the output\n",
    "clear_output()"
   ]
  },
  {
   "cell_type": "code",
   "execution_count": 8,
   "id": "e9c2fe03-17bf-4d3c-908a-cf3cc2ae590d",
   "metadata": {
    "tags": []
   },
   "outputs": [],
   "source": [
    "# sd-vae-ft-mse-original\n",
    "# Use this if you downloaded v1-5-pruned-emaonly.ckpt above and want to autoselect the VAE every time you load this model in the webui\n",
    "%cd ~/SageMaker/stable-diffusion-webui/models/Stable-diffusion/\n",
    "def download_if_not_exists(url, filename):\n",
    "    if not os.path.exists(filename):\n",
    "        !wget --header={user_header} {url} -O {filename}\n",
    "\n",
    "download_if_not_exists(\"https://huggingface.co/stabilityai/sd-vae-ft-mse-original/resolve/main/vae-ft-mse-840000-ema-pruned.ckpt\", \"v1-5-pruned-emaonly.vae.pt\")\n",
    "\n",
    "clear_output()\n",
    "\n",
    "\n"
   ]
  },
  {
   "cell_type": "markdown",
   "id": "521d0405-63b1-4b9d-9a98-385b6073a06a",
   "metadata": {
    "tags": []
   },
   "source": [
    "Optional: Download various models\n",
    "Change values from False to True to download a model\n",
    "\n",
    "A Huggingface token is not necessary for these downloads"
   ]
  },
  {
   "cell_type": "code",
   "execution_count": 9,
   "id": "cc319500-d4e4-401c-bca5-568a46612433",
   "metadata": {
    "tags": []
   },
   "outputs": [],
   "source": [
    "import os\n",
    "\n",
    "download_to_temp_folder = False  # models will be deleted when the SageMaker session ends\n",
    "anything_v3 = False  # Anything V3 model with VAE\n",
    "anything_xtron = False  # AnythingXtron model\n",
    "gigachad = False  # Gigachad model\n",
    "midjourney_v4 = True  # Midjourney V4 Diffusion\n",
    "waifu = False  # Waifu Division with Anime VAE\n",
    "modidi = False  # Modern Disney Diffusion\n",
    "nitrodiffusion = False  # Multi-Style Model trained from scratch\n",
    "sd15_cloned = False  # Cloned version of model 1.5 (not token necessary)\n",
    "secret_ai = False  # Anime/furry model with VAE and hypernetworks\n",
    "\n",
    "if download_to_temp_folder:\n",
    "    !mkdir -p /tmp/models\n",
    "    %cd ~/SageMaker/stable-diffusion-webui/models/Stable-diffusion/tmp_models\n",
    "else:\n",
    "    %cd ~/SageMaker/stable-diffusion-webui/models/Stable-diffusion/\n",
    "\n",
    "def download_if_not_exists(url, filename):\n",
    "    if not os.path.exists(filename):\n",
    "        !wget {url} -O {filename}\n",
    "\n",
    "if anything_v3:\n",
    "    download_if_not_exists(\"https://huggingface.co/Linaqruf/anything-v3.0/resolve/main/Anything-V3.0-pruned.ckpt\", \"Anything-V3.0-pruned.ckpt\")\n",
    "    download_if_not_exists(\"https://huggingface.co/Linaqruf/anything-v3.0/resolve/main/Anything-V3.0.vae.pt\", \"Anything-V3.0-pruned.vae.pt\")\n",
    "\n",
    "if anything_xtron:\n",
    "    download_if_not_exists(\"https://huggingface.co/CrasHthe2nd2/anything-tron/resolve/main/anythingXtron.ckpt\", \"anythingXtron.ckpt\")\n",
    "    download_if_not_exists(\"https://huggingface.co/CrasHthe2nd2/anything-tron/resolve/main/Anything-V3.0.vae.pt\", \"anythingXtron.vae.pt\")\n",
    "\n",
    "if gigachad:\n",
    "    download_if_not_exists(\"https://huggingface.co/SpiteAnon/gigachad-diffusion/resolve/main/gigachad_2000.ckpt\", \"gigachad_2000.ckpt\")\n",
    "\n",
    "if midjourney_v4:\n",
    "    download_if_not_exists(\"https://huggingface.co/prompthero/midjourney-v4-diffusion/resolve/main/mdjrny-v4.ckpt\", \"mdjrny-v4.ckpt\")\n",
    "\n",
    "if modidi:\n",
    "    download_if_not_exists(\"https://huggingface.co/nitrosocke/mo-di-diffusion/resolve/main/moDi-v1-pruned.ckpt\", \"moDi-v1-pruned.ckpt\")\n",
    "\n",
    "if nitrodiffusion:\n",
    "    download_if_not_exists(\"https://huggingface.co/nitrosocke/Nitro-Diffusion/resolve/main/nitroDiffusion-v1.ckpt\", \"nitroDiffusion-v1.ckpt\")\n",
    "\n",
    "if sd15_cloned:\n",
    "    download_if_not_exists(\"https://huggingface.co/acheong08/SD-V1-5-cloned/resolve/main/v1-5-pruned-emaonly.ckpt\", \"v1-5-pruned-emaonly.ckpt\")\n",
    "\n",
    "if secret_ai:\n",
    "    download_if_not_exists(\"https://huggingface.co/acheong08/secretAI/resolve/main/stableckpt/animefull-final-pruned/model.ckpt\", \"secret_ai.ckpt\")\n",
    "    %cd ~/SageMaker/stable-diffusion-webui/models/VAE/\n",
    "    download_if_not_exists(\"https://huggingface.co/acheong08/secretAI/resolve/main/stableckpt/animevae.pt\", \"animevae.pt\")\n",
    "    !mkdir -p ~/sagemaker-studiolab-notebooks/stable-diffusion-webui/models/hypernetworks/\n",
    "    %cd ~/SageMaker/stable-diffusion-webui/models/hypernetworks/\n",
    "    download_if_not_exists(\"https://huggingface.co/acheong08/secretAI/resolve/main/stableckpt/modules/modules/aini.pt\", \"aini.pt\")\n",
    "    download_if_not_exists(\"https://huggingface.co/acheong08/secretAI/resolve/main/stableckpt/modules/modules/anime.pt\", \"anime.pt\")\n",
    "    download_if_not_exists(\"https://huggingface.co/acheong08/secretAI/resolve/main/stableckpt/modules/modules/anime_2.pt\", \"anime_2.pt\")\n",
    "    download_if_not_exists(\"https://huggingface.co/acheong08/secretAI/resolve/main/stableckpt/modules/modules/anime_3.pt\", \"anime_3.pt\")\n",
    "    download_if_not_exists(\"https://huggingface.co/acheong08/secretAI/resolve/main/stableckpt/modules/modules/furry.pt\", \"furry.pt\")\n",
    "    download_if_not_exists(\"https://huggingface.co/acheong08/secretAI/resolve/main/stableckpt/modules/modules/furry_2.pt\", \"furry_2.pt\")\n",
    "    download_if_not_exists(\"https://huggingface.co/acheong08/secretAI/resolve/main/stableckpt/modules/modules/furry_3.pt\", \"furry_3.pt\")\n",
    "    download_if_not_exists(\"https://huggingface.co/acheong08/secretAI/resolve/main/stableckpt/modules/modules/furry_kemono.pt\", \"furry_kemono.pt\")\n",
    "    download_if_not_exists(\"https://huggingface.co/acheong08/secretAI/resolve/main/stableckpt/modules/modules/furry_protogen.pt\", \"furry_protogen.pt\")\n",
    "    download_if_not_exists(\"https://huggingface.co/acheong08/secretAI/resolve/main/stableckpt/modules/modules/furry_scalie.pt\", \"furry_scalie.pt\")\n",
    "    download_if_not_exists(\"https://huggingface.co/acheong08/secretAI/resolve/main/stableckpt/modules/modules/furry_transformation.pt\", \"furry_transformation.pt\")\n",
    "    download_if_not_exists(\"https://huggingface.co/acheong08/secretAI/resolve/main/stableckpt/modules/modules/pony.pt\", \"pony.pt\")\n",
    "\n",
    "# waifu division\n",
    "if waifu:\n",
    "    %cd ~/SageMaker/stable-diffusion-webui/models/Stable-diffusion/\n",
    "    download_if_not_exists(\"https://huggingface.co/hakurei/waifu-diffusion-v1-4/resolve/main/models/wd-1-3-penultimate-ucg-cont.ckpt\", \"wd-1-3-penultimate-ucg-cont.ckpt\")\n",
    "\n",
    "    %cd ~/SageMaker/stable-diffusion-webui/models/VAE/\n",
    "    download_if_not_exists(\"https://huggingface.co/hakurei/waifu-diffusion-v1-4/resolve/main/vae/kl-f8-anime.ckpt\", \"kl-f8-anime.ckpt\")\n",
    "    download_if_not_exists(\"https://huggingface.co/hakurei/waifu-diffusion-v1-4/resolve/main/vae/kl-f8-anime2.ckpt\", \"kl-f8-anime2.ckpt\")\n",
    "\n",
    "clear_output()\n"
   ]
  },
  {
   "cell_type": "markdown",
   "id": "41201e23-009f-4878-b84e-07e44b0c54ad",
   "metadata": {
    "tags": []
   },
   "source": [
    "Installation: Install glib to prevent libgthread error when starting webui\n",
    "You only need to do this once on your SageMaker SL account"
   ]
  },
  {
   "cell_type": "markdown",
   "id": "5e43cf77-1272-4d86-8cc5-dfac39bb5396",
   "metadata": {
    "tags": []
   },
   "source": [
    "## Civitai Models"
   ]
  },
  {
   "cell_type": "code",
   "execution_count": 10,
   "id": "2988e9fc-0059-4ef1-b985-21eaa554e6d8",
   "metadata": {
    "tags": []
   },
   "outputs": [],
   "source": [
    "!civitdl  \"https://civitai.com/models/140737/albedobase-xl\" ./home/ec2-user/SageMaker/stable-diffusion-webui/models/Stable-diffusion --api-key \"$API_KEY\"\n",
    "!civitdl  \"https://civitai.com/models/4384/dreamshaper,\" ./home/ec2-user/SageMaker/stable-diffusion-webui/models/Stable-diffusion --api-key \"$API_KEY\"\n",
    "clear_output()"
   ]
  },
  {
   "cell_type": "code",
   "execution_count": 11,
   "id": "70634bab-4ec1-4ea2-a71d-65340978c2f2",
   "metadata": {
    "tags": []
   },
   "outputs": [],
   "source": [
    "text = '''https://civitai.com/models/140737/albedobase-xl,\n",
    "https://civitai.com/models/46422/juggernaut,\n",
    "\n",
    "'''\n",
    "models = text.split('\\n')\n",
    "with open('batchfile.txt', 'w') as file:\n",
    "    for model in models:\n",
    "        file.write(model + '\\n')\n",
    "!civitdl  batchfile.txt  ./home/ec2-user/SageMaker/stable-diffusion-webui/models/Stable-diffusion --api-key \"$API_KEY\"\n",
    "clear_output()"
   ]
  },
  {
   "cell_type": "markdown",
   "id": "94fc567c-4c5b-4572-9050-b78567905572",
   "metadata": {},
   "source": [
    "# Installation  Stable Diffusion Webui"
   ]
  },
  {
   "cell_type": "code",
   "execution_count": 12,
   "id": "48b4970f-8f75-4216-b2b1-cf907565ad2a",
   "metadata": {
    "tags": []
   },
   "outputs": [],
   "source": [
    "#!conda install glib=2.51.0 -y\n",
    "#Update: Change into Web UI directory and download updates\n",
    "#This is not strictly necessary. You can run this every time before you start the webui\n",
    "%cd ~/SageMaker/stable-diffusion-webui\n",
    "!git pull\n",
    "#Update: Install webui requirements.txt\n",
    "#This is necessary sometimes after you did a !git pull above\n",
    "%cd ~/SageMaker/stable-diffusion-webui\n",
    "%pip install -r requirements.txt\n",
    "clear_output()"
   ]
  },
  {
   "cell_type": "markdown",
   "id": "da597d9b-cbf4-42f7-8d42-be7a86a90cf1",
   "metadata": {
    "tags": []
   },
   "source": [
    "\n",
    "Note that every time you stop the SageMaker Studio Lab runtime the generated images will be lost, as they are stored in the /tmp folder"
   ]
  },
  {
   "cell_type": "code",
   "execution_count": 13,
   "id": "33c886b1-7f11-4810-acf0-9b5ee5f7eee0",
   "metadata": {
    "tags": []
   },
   "outputs": [],
   "source": [
    "# create /tmp/outputs folder for storing generated images for this session\n",
    "!mkdir -p /tmp/outputs\n",
    "!mkdir -p /tmp/models"
   ]
  },
  {
   "cell_type": "code",
   "execution_count": 14,
   "id": "1001e2a6-bf98-4d46-8322-998a2ddd5eaf",
   "metadata": {
    "tags": []
   },
   "outputs": [
    {
     "name": "stdout",
     "output_type": "stream",
     "text": [
      "/dev/nvme2n1     99G   60G   35G  64% /home/ec2-user/SageMaker\n"
     ]
    }
   ],
   "source": [
    "!df -h | grep home"
   ]
  },
  {
   "cell_type": "code",
   "execution_count": 15,
   "id": "272a6a7c-f3a7-4920-acb7-bfec341c2043",
   "metadata": {
    "tags": []
   },
   "outputs": [],
   "source": [
    "##################################\n",
    "\n",
    "WEBUI_USERNAME = \"genius\"\n",
    "WEBUI_PASSWORD = \"artist\"\n",
    "\n",
    "##################################\n"
   ]
  },
  {
   "cell_type": "code",
   "execution_count": null,
   "id": "a74dceb1-c726-475f-ac99-fe447c693d47",
   "metadata": {
    "tags": []
   },
   "outputs": [
    {
     "name": "stdout",
     "output_type": "stream",
     "text": [
      "/home/ec2-user/SageMaker/stable-diffusion-webui\n",
      "Python 3.10.11 | packaged by conda-forge | (main, May 10 2023, 18:58:44) [GCC 11.3.0]\n",
      "Version: v1.7.0\n",
      "Commit hash: cf2772fab0af5573da775e7437e6acdca424f26e\n",
      "Launching Web UI with arguments: --disable-console-progressbars --gradio-auth genius:artist --share\n",
      "no module 'xformers'. Processing without...\n",
      "no module 'xformers'. Processing without...\n",
      "No module 'xformers'. Proceeding without it.\n",
      "Style database not found: /home/ec2-user/SageMaker/stable-diffusion-webui/styles.csv\n",
      "Loading weights [338b85bc4f] from /home/ec2-user/SageMaker/stable-diffusion-webui/models/Stable-diffusion/home/ec2-user/SageMaker/stable-diffusion-webui/models/Stable-diffusion/Juggernaut/juggernaut_reborn-mid_46422-vid_274039.safetensors\n",
      "/home/ec2-user/SageMaker/stable-diffusion-webui/extensions/stable-diffusion-webui-dataset-tag-editor/scripts/main.py:218: GradioDeprecationWarning: The `style` method is deprecated. Please set these arguments in the constructor instead.\n",
      "  with gr.Row().style(equal_height=False):\n",
      "/home/ec2-user/SageMaker/stable-diffusion-webui/extensions/stable-diffusion-webui-dataset-tag-editor/scripts/tag_editor_ui/block_dataset_gallery.py:25: GradioDeprecationWarning: The `style` method is deprecated. Please set these arguments in the constructor instead.\n",
      "  self.gl_dataset_images = gr.Gallery(label='Dataset Images', elem_id=\"dataset_tag_editor_dataset_gallery\").style(grid=image_columns)\n",
      "/home/ec2-user/SageMaker/stable-diffusion-webui/extensions/stable-diffusion-webui-dataset-tag-editor/scripts/tag_editor_ui/block_dataset_gallery.py:25: GradioDeprecationWarning: The 'grid' parameter will be deprecated. Please use 'columns' in the constructor instead.\n",
      "  self.gl_dataset_images = gr.Gallery(label='Dataset Images', elem_id=\"dataset_tag_editor_dataset_gallery\").style(grid=image_columns)\n",
      "/home/ec2-user/SageMaker/stable-diffusion-webui/extensions/stable-diffusion-webui-dataset-tag-editor/scripts/tag_editor_ui/tab_filter_by_selection.py:35: GradioDeprecationWarning: The `style` method is deprecated. Please set these arguments in the constructor instead.\n",
      "  self.gl_filter_images = gr.Gallery(label='Filter Images', elem_id=\"dataset_tag_editor_filter_gallery\").style(grid=image_columns)\n",
      "/home/ec2-user/SageMaker/stable-diffusion-webui/extensions/stable-diffusion-webui-dataset-tag-editor/scripts/tag_editor_ui/tab_filter_by_selection.py:35: GradioDeprecationWarning: The 'grid' parameter will be deprecated. Please use 'columns' in the constructor instead.\n",
      "  self.gl_filter_images = gr.Gallery(label='Filter Images', elem_id=\"dataset_tag_editor_filter_gallery\").style(grid=image_columns)\n",
      "/home/ec2-user/SageMaker/stable-diffusion-webui/extensions/stable-diffusion-webui-images-browser/scripts/images_history.py:214: GradioDeprecationWarning: The `style` method is deprecated. Please set these arguments in the constructor instead.\n",
      "  history_gallery = gr.Gallery(show_label=False, elem_id=tabname + \"_images_history_gallery\").style(grid=opts.images_history_page_columns)\n",
      "/home/ec2-user/SageMaker/stable-diffusion-webui/extensions/stable-diffusion-webui-images-browser/scripts/images_history.py:214: GradioDeprecationWarning: The 'grid' parameter will be deprecated. Please use 'columns' in the constructor instead.\n",
      "  history_gallery = gr.Gallery(show_label=False, elem_id=tabname + \"_images_history_gallery\").style(grid=opts.images_history_page_columns)\n",
      "Creating model from config: /home/ec2-user/SageMaker/stable-diffusion-webui/configs/v1-inference.yaml\n",
      "Running on local URL:  http://127.0.0.1:7860\n",
      "Running on public URL: https://de7515cbaf49864907.gradio.live\n",
      "\n",
      "This share link expires in 72 hours. For free permanent hosting and GPU upgrades, run `gradio deploy` from Terminal to deploy to Spaces (https://huggingface.co/spaces)\n",
      "Startup time: 11.3s (prepare environment: 1.6s, import torch: 3.5s, import gradio: 1.1s, setup paths: 1.1s, initialize shared: 0.2s, other imports: 0.7s, load scripts: 0.5s, create ui: 1.2s, gradio launch: 1.3s).\n",
      "Applying attention optimization: Doggettx... done.\n",
      "Model loaded in 3.2s (load weights from disk: 1.3s, create model: 0.5s, apply weights to model: 0.8s, load textual inversion embeddings: 0.4s, calculate empty prompt: 0.2s).\n",
      "100%|███████████████████████████████████████████| 20/20 [00:21<00:00,  1.05s/it]\n",
      "100%|███████████████████████████████████████████| 20/20 [00:03<00:00,  5.56it/s]\n",
      "Reusing loaded model Juggernaut/juggernaut_reborn-mid_46422-vid_274039.safetensors [338b85bc4f] to load v1-5-pruned-emaonly.ckpt\n"
     ]
    }
   ],
   "source": [
    "# launch webui\n",
    "%cd ~/SageMaker/stable-diffusion-webui\n",
    "ARGS=\"--disable-console-progressbars --gradio-auth \"+ WEBUI_USERNAME + \":\" + WEBUI_PASSWORD+\" --share\"\n",
    "!COMMANDLINE_ARGS=\"$ARGS\" REQS_FILE=\"requirements.txt\" python launch.py"
   ]
  },
  {
   "cell_type": "markdown",
   "id": "b0e9d16b-f35d-4fc3-b6bc-fd39f40f26cc",
   "metadata": {
    "tags": []
   },
   "source": [
    "Commandline arguments are:\n",
    "```\n",
    "--share - create online gradio.app link (currently this doesn't work on SageMaker SL)\n",
    "--gradio-debug - print outputs to console\n",
    "--ngrok - start ngrok reverse proxy with supplied auth token\n",
    "```\n",
    "End: Commands for after you're done with a session\n",
    "\n",
    "```bash\n",
    "COMMANDLINE_ARGS=\"--disable-console-progressbars --gradio-debug --gradio-auth genius:artist --share\"\n",
    "python launch.py $COMMANDLINE_ARGS\n",
    "```"
   ]
  },
  {
   "cell_type": "markdown",
   "id": "9680dc84-ace2-4bfe-9c18-276da360a9eb",
   "metadata": {
    "tags": []
   },
   "source": [
    "Click the square stop button before running these cells\n",
    "Create .tar.gz archive of images for downloading\n",
    "Location will be ~/sagemaker-studiolab-notebooks/tmp/outputs.tar.gz and /tmp/outputs.tar.gz"
   ]
  },
  {
   "cell_type": "code",
   "execution_count": null,
   "id": "3bf1619e-2ea3-4565-bfb1-4ad5d613bc30",
   "metadata": {
    "tags": []
   },
   "outputs": [],
   "source": [
    "%cd /tmp\n",
    "!echo \"Creating archive. Please wait...\"\n",
    "!tar -czf /tmp/outputs.tar.gz outputs\n",
    "!echo \"You can now download the archive with generated images\""
   ]
  }
 ],
 "metadata": {
  "kernelspec": {
   "display_name": "conda_automatic",
   "language": "python",
   "name": "conda_automatic"
  },
  "language_info": {
   "codemirror_mode": {
    "name": "ipython",
    "version": 3
   },
   "file_extension": ".py",
   "mimetype": "text/x-python",
   "name": "python",
   "nbconvert_exporter": "python",
   "pygments_lexer": "ipython3",
   "version": "3.10.11"
  }
 },
 "nbformat": 4,
 "nbformat_minor": 5
}
